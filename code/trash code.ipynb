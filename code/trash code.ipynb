{
 "cells": [
  {
   "cell_type": "markdown",
   "id": "a295e0e4",
   "metadata": {},
   "source": [
    "이동평균+원본"
   ]
  },
  {
   "cell_type": "code",
   "execution_count": null,
   "id": "a9ef387f",
   "metadata": {},
   "outputs": [],
   "source": [
    "def make_dataset(times,ma,data=data):\n",
    "    \n",
    "    select_features=['wl_js_br','wl_cd_br','wl_hj_br','wl_hg_br','wl_gj_br','wl_pd_br',\n",
    "                'fw_cd_br','fw_hj_br','fw_hg_br','fw_pd_br']\n",
    "    \n",
    "    x = data.copy()\n",
    "    x=x.set_index('ymdhm')\n",
    "    data=data.set_index('ymdhm')\n",
    "    data.index=pd.to_datetime(data.index)\n",
    "    \n",
    "    y = target.shift(-times)\n",
    "    y_train = y[:497952 - times]\n",
    "    y_test = y[497952 - times:]\n",
    "    \n",
    "    if(ma>1):\n",
    "        for i in range(len(select_features)):\n",
    "            coln=select_features[i]+'_lag'\n",
    "            x[coln] = x[select_features[i]].rolling(window=ma).mean()\n",
    "            for j in range(ma-1):\n",
    "                if pd.isnull(x[coln].iloc[j]):\n",
    "                    x[coln].iloc[j]=x[select_features[i]].iloc[j]\n",
    "        \n",
    "    x_train = x[:497952 - times]\n",
    "    x_test = x[497952 - times:]\n",
    "    \n",
    "    \n",
    "    x_train=x_train.fillna(x_train.mean())\n",
    "    x_test=x_test.fillna(x_test.mean())\n",
    "    \n",
    "    dataset=[x_train,x_test,y_train,y_test]\n",
    "    \n",
    "    return dataset\n"
   ]
  },
  {
   "cell_type": "markdown",
   "id": "5afc2851",
   "metadata": {},
   "source": [
    "시차only(원본도 하려면 drop만 빼면됨)"
   ]
  },
  {
   "cell_type": "code",
   "execution_count": 1,
   "id": "17e46d29",
   "metadata": {
    "ExecuteTime": {
     "end_time": "2023-05-09T07:23:05.710349Z",
     "start_time": "2023-05-09T07:23:05.691932Z"
    }
   },
   "outputs": [],
   "source": [
    "def make_datasetlagonly(times,flag,data):\n",
    "    \n",
    "    x = data.copy()\n",
    "    x=x.set_index('ymdhm')\n",
    "    data=data.set_index('ymdhm')\n",
    "    data.index=pd.to_datetime(data.index)\n",
    "    \n",
    "    y = target.shift(-times)\n",
    "    y_train = y[:497952 - times]\n",
    "    y_test = y[497952 - times:]\n",
    "    \n",
    "    if(flag==1):\n",
    "        #x[\"wl_cheongdam_lag\"] = data['wl_cheongdam'].shift(0, freq=DateOffset(minutes=10))\n",
    "        #x[\"fw_cheongdam_lag\"] = data['fw_cheongdam'].shift(0, freq=DateOffset(minutes=10))\n",
    "        #x[\"wl_hangang_lag\"] = data['wl_hangang'].shift(0, freq=DateOffset(minutes=10))\n",
    "        #x[\"fw_hangang_lag\"] = data['fw_hangang'].shift(-9, freq=DateOffset(minutes=10))\n",
    "        x[\"wl_haengju_lag\"] = data['wl_haengju'].shift(5, freq=DateOffset(minutes=10))\n",
    "        x[\"fw_haengju_lag\"] = data['fw_haengju'].shift(5, freq=DateOffset(minutes=10))\n",
    "        x[\"wl_paldang_lag\"] = data['wl_paldang'].shift(12, freq=DateOffset(minutes=10))\n",
    "        x[\"fw_paldang_lag\"] = data['fw_paldang'].shift(15, freq=DateOffset(minutes=10))\n",
    "        #x['wl_gwangjin_lag'] = data['wl_gwangjin'].shift(0, freq=DateOffset(minutes=10))\n",
    "        x[\"inf_lag\"] = data['inf'].shift(17, freq=DateOffset(minutes=10))\n",
    "        x[\"tototf_lag\"] = data['tototf'].shift(19, freq=DateOffset(minutes=10))\n",
    "        x.drop(['wl_haengju','fw_haengju','wl_paldang','fw_paldang','inf','tototf'],axis=1,inplace=True)\n",
    "        \n",
    "    \n",
    "    x_train = x[:497952 - times]\n",
    "    x_test = x[497952 - times:]\n",
    "    \n",
    "    \n",
    "    x_train=x_train.fillna('bfill')\n",
    "    x_test=x_test.fillna('bfill')\n",
    "    \n",
    "    dataset=[x_train,x_test,y_train,y_test]\n",
    "    \n",
    "    return dataset\n"
   ]
  },
  {
   "cell_type": "code",
   "execution_count": null,
   "id": "a48564c0",
   "metadata": {},
   "outputs": [],
   "source": [
    "# 선행시간, 이동평균, 윈도우에 맞게 데이터셋을 제공 \n",
    "def load_dataset(leadtime,moving_average,window):\n",
    "    \n",
    "    select_features=['wl_js_br','wl_cd_br','wl_hj_br','wl_hg_br','wl_gj_br','wl_pd_br',\n",
    "                'fw_cd_br','fw_hj_br','fw_hg_br','fw_pd_br','wl_pd_dam','tototf_pd_dam']\n",
    "    \n",
    "    fe_list=['cd_br','hj_br','hg_br','pd_br']\n",
    "    \n",
    "    x=pd.concat([train_data,test_data],axis=0)\n",
    "    x.reset_index(drop=True,inplace=True)\n",
    "    x=x.set_index('ymdhm')\n",
    "    x.index=pd.to_datetime(x.index)\n",
    "    \n",
    "    # 선행시간을 적용하기 위해 타겟을미뤄줌 \n",
    "    y=x['target'].shift(-leadtime)\n",
    "    x.drop('target',axis=1,inplace=True)\n",
    "            \n",
    "    # 이동평균을 적용 \n",
    "    if(moving_average>1):\n",
    "        # 월과 시간에 대한 feature도 추가해줌 \n",
    "        x['month'],x['hour']=x.index.month,x.index.hour\n",
    "        for i in range(len(select_features)):\n",
    "            coln=select_features[i]+str(moving_average)+'ma'\n",
    "            x[coln] = x[select_features[i]].rolling(window=moving_average).mean()\n",
    "    # window를 적용\n",
    "    if(window>0):\n",
    "        for col in select_features:\n",
    "            x[\"{}_{}min_prev\".format(col, window * 10)] = x[col].shift(window, freq=DateOffset(minutes=10))\n",
    "        \n",
    "    # train과 test를 다시 분리       \n",
    "    idx = x.index.get_loc('2022-06-21 00:00:00')\n",
    "    \n",
    "    # test를 위해 train과 test의 범위를 선행시간만큼 조정 \n",
    "    x_train=x[:idx-leadtime]\n",
    "    x_test=x[idx-leadtime:]\n",
    "    y_train = y[:idx - leadtime]\n",
    "\n",
    "    # 이동평균혹은 window를 적용하면 생기는 nan을 없애주기 위함 \n",
    "    if(moving_average>1 and window==0):\n",
    "        x_train=x_train[moving_average:]\n",
    "        y_train=y_train[moving_average:]\n",
    "        \n",
    "    if(window>0 and moving_average==0):\n",
    "        x_train=x_train[window:]\n",
    "        y_train=y_train[window:]\n",
    "        \n",
    "    dataset=[x_train,x_test,y_train]\n",
    "    \n",
    "    return dataset"
   ]
  },
  {
   "cell_type": "code",
   "execution_count": null,
   "id": "e8743e10",
   "metadata": {},
   "outputs": [],
   "source": [
    "def make_dataset_windoworigin(times,windows,data):\n",
    "    \n",
    "    sel_feat=['wl_jamsu', 'wl_gwangjin','wl_cheongdam', 'fw_cheongdam', \n",
    "              'wl_haengju','fw_haengju','wl_hangang', 'fw_hangang',\n",
    "              'wl_paldang','fw_paldang', 'swl', 'inf','tide_level']\n",
    "    \n",
    "    x = data.copy()\n",
    "    x=x.set_index('ymdhm')\n",
    "    data=data.set_index('ymdhm')\n",
    "    data.index=pd.to_datetime(data.index)\n",
    "    \n",
    "    y = target.shift(-times)\n",
    "    y_train = y[:497952 - times]\n",
    "    y_test = y[497952 - times:]\n",
    "    \n",
    "    for col in sel_feat:\n",
    "        for i in range(1, windows + 1):\n",
    "            x[\"{}_{}prev\".format(col, i)] = data[col].shift(i, freq=DateOffset(minutes=10))\n",
    "        \n",
    "    \n",
    "    x_train = x[:497952 - times]\n",
    "    x_test = x[497952 - times:]\n",
    "    \n",
    "    \n",
    "    x_train=x_train.fillna(method='bfill')\n",
    "    x_test=x_test.fillna(method='bfill')\n",
    "    x_train=x_train.fillna(method='ffill')\n",
    "    x_test=x_test.fillna(method='ffill')\n",
    "    \n",
    "    dataset=[x_train,x_test,y_train,y_test]\n",
    "    \n",
    "    return dataset\n"
   ]
  }
 ],
 "metadata": {
  "kernelspec": {
   "display_name": "water_project",
   "language": "python",
   "name": "water_project"
  },
  "language_info": {
   "codemirror_mode": {
    "name": "ipython",
    "version": 3
   },
   "file_extension": ".py",
   "mimetype": "text/x-python",
   "name": "python",
   "nbconvert_exporter": "python",
   "pygments_lexer": "ipython3",
   "version": "3.9.10"
  },
  "toc": {
   "base_numbering": 1,
   "nav_menu": {},
   "number_sections": true,
   "sideBar": true,
   "skip_h1_title": false,
   "title_cell": "Table of Contents",
   "title_sidebar": "Contents",
   "toc_cell": false,
   "toc_position": {},
   "toc_section_display": true,
   "toc_window_display": false
  },
  "varInspector": {
   "cols": {
    "lenName": 16,
    "lenType": 16,
    "lenVar": 40
   },
   "kernels_config": {
    "python": {
     "delete_cmd_postfix": "",
     "delete_cmd_prefix": "del ",
     "library": "var_list.py",
     "varRefreshCmd": "print(var_dic_list())"
    },
    "r": {
     "delete_cmd_postfix": ") ",
     "delete_cmd_prefix": "rm(",
     "library": "var_list.r",
     "varRefreshCmd": "cat(var_dic_list()) "
    }
   },
   "types_to_exclude": [
    "module",
    "function",
    "builtin_function_or_method",
    "instance",
    "_Feature"
   ],
   "window_display": false
  }
 },
 "nbformat": 4,
 "nbformat_minor": 5
}
