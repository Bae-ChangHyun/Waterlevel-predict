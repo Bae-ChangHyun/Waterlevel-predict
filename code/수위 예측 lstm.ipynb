{
 "cells": [
  {
   "attachments": {},
   "cell_type": "markdown",
   "id": "b704b660",
   "metadata": {},
   "source": [
    "# Import"
   ]
  },
  {
   "attachments": {},
   "cell_type": "markdown",
   "id": "e4df0e5f",
   "metadata": {},
   "source": [
    "## library"
   ]
  },
  {
   "cell_type": "code",
   "execution_count": 1,
   "id": "6a1c95ee",
   "metadata": {
    "ExecuteTime": {
     "end_time": "2023-05-31T04:34:40.283723Z",
     "start_time": "2023-05-31T04:34:37.938576Z"
    }
   },
   "outputs": [],
   "source": [
    "import os \n",
    "import operator\n",
    "from tensorflow.python.client import device_lib\n",
    "\n",
    "device_lib.list_local_devices()\n",
    "\n",
    "os.environ['TF_CPP_MIN_LOG_LEVEL'] = '3'\n",
    "os.environ[\"CUDA_VISIBLE_DEVICES\"] = \"\"\n",
    "\n",
    "import numpy as np\n",
    "import pandas as pd\n",
    "import math\n",
    "from glob import glob\n",
    "from tqdm import tqdm\n",
    "from pandas.tseries.offsets import DateOffset\n",
    "from IPython.core.interactiveshell import InteractiveShell\n",
    "InteractiveShell.ast_node_interactivity = 'all'\n",
    "\n",
    "import warnings\n",
    "warnings.filterwarnings(action='ignore')\n",
    "\n",
    "import seaborn as sns \n",
    "import matplotlib\n",
    "import matplotlib.pyplot as plt\n",
    "import matplotlib.font_manager as fm\n",
    "import matplotlib.ticker as ticker\n",
    "import matplotlib.dates as mdates\n",
    "import matplotlib.cm as cm\n",
    "from IPython.display import set_matplotlib_formats\n",
    "\n",
    "sns.set(style='white', context='notebook', palette='deep')\n",
    "line_color = ['#FFBF00','#FF7F50','#DE3163','#9FE2BF','#40E0D0','#6495ED','#117A65','#2471A3','#CCCCFF','#8E44AD','#CD5C5C' ,'#F08080','#FA8072' ,'#E9967A' ,'#FFA07A']\n",
    "plt.style.use('fivethirtyeight')\n",
    "plt.style.use(\"seaborn-white\")\n",
    "plt.rcParams['font.family'] = 'Malgun Gothic'\n",
    "matplotlib.rcParams['axes.unicode_minus'] = False\n",
    "#print(plt.rcParams['font.family'])\n",
    "%matplotlib inline"
   ]
  },
  {
   "cell_type": "code",
   "execution_count": 2,
   "id": "0f0ce72b",
   "metadata": {
    "ExecuteTime": {
     "end_time": "2023-05-31T04:34:43.538269Z",
     "start_time": "2023-05-31T04:34:42.750463Z"
    }
   },
   "outputs": [],
   "source": [
    "\n",
    "#? 파이프라인\n",
    "from sklearn.model_selection import KFold\n",
    "from sklearn.pipeline import Pipeline\n",
    "from sklearn.pipeline import make_pipeline\n",
    "\n",
    "#? scaler\n",
    "from sklearn.preprocessing import MinMaxScaler \n",
    "from sklearn.preprocessing import RobustScaler\n",
    "from sklearn.preprocessing import StandardScaler\n",
    "\n",
    "\n",
    "#? 통계\n",
    "#import statsmodels.api as sm\n",
    "from mlxtend.feature_selection import SequentialFeatureSelector as SFS\n",
    "from scipy.stats import mstats\n",
    "from statsmodels.stats.outliers_influence import variance_inflation_factor\n",
    "from sklearn.decomposition import PCA\n",
    "\n",
    "#? 평가지표\n",
    "import hydroeval as he\n",
    "from sklearn.metrics import mean_squared_error\n",
    "from sklearn.metrics import r2_score\n",
    "\n",
    "#?모델 \n",
    "import lazypredict\n",
    "from lazypredict.Supervised import LazyRegressor\n",
    "from catboost import CatBoostRegressor\n",
    "from lightgbm import LGBMRegressor\n",
    "from xgboost import XGBRegressor\n",
    "from sklearn.ensemble import RandomForestRegressor\n",
    "from sklearn.linear_model import LinearRegression\n",
    "from sklearn.multioutput import MultiOutputRegressor\n",
    "from sklearn.model_selection import train_test_split\n",
    "\n",
    "#?모델링 \n",
    "import joblib\n",
    "import optuna\n",
    "from optuna import Trial\n",
    "from optuna.samplers import TPESampler\n",
    "from sklearn.inspection import permutation_importance"
   ]
  },
  {
   "cell_type": "code",
   "execution_count": 3,
   "id": "3d0a1383",
   "metadata": {},
   "outputs": [
    {
     "name": "stdout",
     "output_type": "stream",
     "text": [
      "1 Physical GPUs, 1 Logical GPUs\n"
     ]
    },
    {
     "data": {
      "text/plain": [
       "[name: \"/device:CPU:0\"\n",
       " device_type: \"CPU\"\n",
       " memory_limit: 268435456\n",
       " locality {\n",
       " }\n",
       " incarnation: 9521844143010561413\n",
       " xla_global_id: -1,\n",
       " name: \"/device:GPU:0\"\n",
       " device_type: \"GPU\"\n",
       " memory_limit: 10069475328\n",
       " locality {\n",
       "   bus_id: 1\n",
       "   links {\n",
       "   }\n",
       " }\n",
       " incarnation: 3255294510092121256\n",
       " physical_device_desc: \"device: 0, name: NVIDIA GeForce RTX 3060, pci bus id: 0000:01:00.0, compute capability: 8.6\"\n",
       " xla_global_id: 416903419]"
      ]
     },
     "execution_count": 3,
     "metadata": {},
     "output_type": "execute_result"
    }
   ],
   "source": [
    "import tensorflow as tf\n",
    "gpus = tf.config.list_physical_devices('GPU')\n",
    "if gpus:\n",
    "    try:\n",
    "        for gpu in gpus:\n",
    "            tf.config.experimental.set_memory_growth(gpu, True)\n",
    "            logical_gpus = tf.config.list_logical_devices('GPU')\n",
    "        print(len(gpus), \"Physical GPUs,\", len(logical_gpus), \"Logical GPUs\")\n",
    "    except RuntimeError as e:\n",
    "        print(e)\n",
    "from tensorflow.python.client import device_lib\n",
    "device_lib.list_local_devices()\n",
    "\n"
   ]
  },
  {
   "attachments": {},
   "cell_type": "markdown",
   "id": "c614a205",
   "metadata": {},
   "source": [
    "## function"
   ]
  },
  {
   "cell_type": "code",
   "execution_count": 4,
   "id": "a1ca76fc",
   "metadata": {
    "ExecuteTime": {
     "end_time": "2023-05-31T04:34:45.105437Z",
     "start_time": "2023-05-31T04:34:45.089490Z"
    }
   },
   "outputs": [],
   "source": [
    "# 예측과 실제 수위를 scatter plot해주는 함수 \n",
    "def scatter_plot(pred,answer):\n",
    "    x = pred\n",
    "    y = answer\n",
    "\n",
    "    fig, axes = plt.subplots(1, 1, figsize=(7, 7))\n",
    "    rmse,nse,r2=metric(y,x)\n",
    "    axes.scatter(x, y, label='data') \n",
    "    lims = [np.min([axes.get_xlim(), axes.get_ylim()]), np.max([axes.get_xlim(), axes.get_ylim()]), ]\n",
    "    axes.plot(lims, lims, 'k--', alpha=0.75, zorder=0, label='parity')\n",
    "    axes.set_aspect('equal')\n",
    "    axes.set_xlabel('Prediction',fontsize=25)\n",
    "    axes.set_ylabel('Observation',fontsize=25)\n",
    "    handles, labels = axes.get_legend_handles_labels()\n",
    "    txt1=\"(a)   Jamsu bridge RMSE %.4f\"%rmse\n",
    "    axes.set_title(txt1, fontsize=25,loc='left')\n",
    "    axes.xaxis.set_tick_params(labelsize=20)\n",
    "    axes.yaxis.set_tick_params(labelsize=20)\n",
    "\n",
    "    return fig"
   ]
  },
  {
   "cell_type": "code",
   "execution_count": 5,
   "id": "255766ab",
   "metadata": {
    "ExecuteTime": {
     "end_time": "2023-05-31T04:34:45.859062Z",
     "start_time": "2023-05-31T04:34:45.854148Z"
    }
   },
   "outputs": [],
   "source": [
    "# 파일이 존재하는지 확인하는 함수 \n",
    "def check(filepath):\n",
    "    csv_files = glob(os.path.join(filepath, \"*.csv\"))\n",
    "    if len(csv_files) > 0:return 1\n",
    "    else:return 0\n",
    "    \n",
    "# 그래프에 rmse를 표시해주는 함수 \n",
    "def plot_rmse(ax, answer, preds, label):\n",
    "        ax.text(1.0, 0.95, '  {:.3f}  '.format(metric(answer,preds)[0]),\n",
    "                fontsize=93, ha='right', va='top', transform=ax.transAxes)\n",
    "        \n",
    "# rmse와 nse를 계산해주는 함수(m단위)\n",
    "def metric(y_true, y_pred):\n",
    "    y_true=y_true/100\n",
    "    y_pred=y_pred/100\n",
    "    rmse = np.sqrt(mean_squared_error(y_true, y_pred))\n",
    "    r2 = r2_score(y_true, y_pred)\n",
    "    nse=he.evaluator(he.nse, y_pred, y_true)\n",
    "    return rmse,nse,r2"
   ]
  },
  {
   "cell_type": "code",
   "execution_count": 6,
   "id": "f1aaf87b",
   "metadata": {
    "ExecuteTime": {
     "end_time": "2023-05-31T04:34:47.170463Z",
     "start_time": "2023-05-31T04:34:47.162491Z"
    }
   },
   "outputs": [],
   "source": [
    "# 선행시간, 이동평균, 윈도우에 맞게 데이터셋을 제공 \n",
    "def load_dataset2(leadtime,moving_average,version):\n",
    "    \n",
    "    # 이동평균을 적용할 feature들 \n",
    "    select_features=['cd_br','hj_br','jn_br','tl_gh_br','flow','water','wl_js_br']\n",
    "    # feature engineering 할 유량들.\n",
    "    fe_list=['cd_br','hj_br','jn_br']\n",
    "    \n",
    "    x=pd.concat([train_data,test_data],axis=0)\n",
    "    x.reset_index(drop=True,inplace=True)\n",
    "    x=x.set_index('ymdhm')\n",
    "    x.index=pd.to_datetime(x.index)\n",
    "    \n",
    "    \n",
    "    # 선행시간을 적용하기 위해 타겟을미뤄줌 \n",
    "    y=x['target'].shift(-leadtime)\n",
    "    x.drop('target',axis=1,inplace=True)\n",
    "    \n",
    "    # feature engineer을 안함(유량정보없음)\n",
    "    if(version==0):\n",
    "        x.drop(['fw_cd_br','fw_hj_br','fw_jn_br'],axis=1,inplace=True)\n",
    "    # feature engineering 함(유량정보있고, 팔당댐도 엔지니어링)\n",
    "    if(version==1):\n",
    "        # feature engineering한 버전\n",
    "        # x['otfinf']=x['tototf_pd_dam']-x['inf_pd_dam']\n",
    "        x.drop([ 'ecpc_pd_dam'],axis=1,inplace=True)\n",
    "        \n",
    "        # 월과 시간에 대한 feature도 추가해줌 \n",
    "        x['month'],x['hour']=x.index.month,x.index.hour\n",
    "        \n",
    "        #! 유량 컬럼의 상관관계가 높아, \n",
    "        #! 이전시간과의 유량차이 column을 추가 \n",
    "        \n",
    "        flow = PCA(n_components=1)\n",
    "        flow.fit(x[['tototf_pd_dam','inf_pd_dam']])\n",
    "        transformed_data = flow.transform(x[['tototf_pd_dam','inf_pd_dam']])  # 변환된 데이터\n",
    "        x['flow']=transformed_data\n",
    "        \n",
    "        water = PCA(n_components=1)\n",
    "        water.fit(x[['sfw_pd_dam','wl_pd_dam']])\n",
    "        transformed_data = water.transform(x[['sfw_pd_dam','wl_pd_dam']])  # 변환된 데이터\n",
    "        x['water']=transformed_data\n",
    "        \n",
    "        x.drop(['tototf_pd_dam','inf_pd_dam','sfw_pd_dam','wl_pd_dam'],axis=1,inplace=True)\n",
    "        \n",
    "        fe_list=['cd_br','hj_br','jn_br']\n",
    "        for i in fe_list:\n",
    "            v_name = f\"{i}_pca\"  # 동적으로 생성할 변수명\n",
    "            f_name,w_name = \"fw_\"+i, 'wl_'+i\n",
    "            tmp=x[[f_name,w_name]]\n",
    "            globals()[v_name] = PCA(n_components=1)  # 변수 생성\n",
    "            globals()[v_name].fit(tmp)  # PCA 수행\n",
    "            transformed_data = globals()[v_name].transform(tmp)  # 변환된 데이터\n",
    "            x[i]=transformed_data\n",
    "            x.drop([f_name],axis=1,inplace=True)\n",
    "            if(moving_average<1): x.drop([w_name],axis=1,inplace=True)\n",
    "       \n",
    "    \n",
    "    # 이동평균을 적용\n",
    "    if(moving_average>1):\n",
    "        for i in range(len(select_features)):\n",
    "            coln=select_features[i]+str(moving_average)+'ma'\n",
    "            x[coln] = x[select_features[i]].rolling(window=moving_average).mean()\n",
    "            if(i<3):x.drop('wl_'+select_features[i],axis=1,inplace=True)\n",
    "            \n",
    "        \n",
    "    # train과 test를 다시 분리       \n",
    "    idx = x.index.get_loc('2022-06-21 00:00:00')\n",
    "    \n",
    "    # test를 위해 train과 test의 범위를 선행시간만큼 조정 \n",
    "    x_train=x[:idx-leadtime]\n",
    "    x_test=x[idx-leadtime:]\n",
    "    y_train = y[:idx - leadtime]\n",
    "    \n",
    "    if(version==1 and moving_average==0):\n",
    "        x_train=x_train[1:]\n",
    "        y_train=y_train[1:]\n",
    "\n",
    "    # 이동평균을 적용하면 생기는 nan을 없애주기 위함 \n",
    "    if(moving_average!=0):\n",
    "        x_train=x_train[moving_average:]\n",
    "        y_train=y_train[moving_average:]\n",
    "        \n",
    "    dataset=[x_train,x_test,y_train]\n",
    "    \n",
    "    return dataset"
   ]
  },
  {
   "cell_type": "code",
   "execution_count": 7,
   "id": "b7d73c3f",
   "metadata": {},
   "outputs": [],
   "source": [
    "# 선행시간, 이동평균, 윈도우에 맞게 데이터셋을 제공 \n",
    "def load_dataset(leadtime,moving_average,version):\n",
    "    \n",
    "    # 이동평균을 적용할 feature들 \n",
    "    select_features=['wl_js_br','wl_cd_br','wl_hj_br','wl_jn_br','wl_pd_dam','tl_gh_br']\n",
    "    # feature engineering 할 유량들.\n",
    "    fe_list=['cd_br','hj_br','jn_br']\n",
    "    \n",
    "    x=pd.concat([train_data,test_data],axis=0)\n",
    "    x.reset_index(drop=True,inplace=True)\n",
    "    x=x.set_index('ymdhm')\n",
    "    x.index=pd.to_datetime(x.index)\n",
    "    \n",
    "    # 선행시간을 적용하기 위해 타겟을미뤄줌 \n",
    "    y=x['target'].shift(-leadtime)\n",
    "    x.drop('target',axis=1,inplace=True)\n",
    "    \n",
    "    # feature engineer을 안함(유량정보없음)\n",
    "    if(version==0):\n",
    "        x.drop(['fw_cd_br','fw_hj_br','fw_jn_br'],axis=1,inplace=True)\n",
    "    # feature engineering 함(유량정보있고, 팔당댐도 엔지니어링)\n",
    "    if(version==1):\n",
    "        # feature engineering한 버전\n",
    "        x['otfinf']=x['tototf_pd_dam']-x['inf_pd_dam']\n",
    "        x.drop([ 'inf_pd_dam','ecpc_pd_dam', 'tototf_pd_dam'],axis=1,inplace=True)\n",
    "        \n",
    "        # 월과 시간에 대한 feature도 추가해줌 \n",
    "        x['month'],x['hour']=x.index.month,x.index.hour\n",
    "        \n",
    "        #! 유량 컬럼의 상관관계가 높아, \n",
    "        #! 이전시간과의 유량차이 column을 추가 \n",
    "        for i in fe_list:\n",
    "            name1='fw_'+i\n",
    "            name2='fw_'+i+'_lag'\n",
    "\n",
    "            x[name2]= x[name1] - x[name1].shift(1)\n",
    "            x.drop(name1,axis=1,inplace=True)\n",
    "            \n",
    "    # 이동평균을 적용\n",
    "    if(moving_average>1):\n",
    "        for i in range(len(select_features)):\n",
    "            coln=select_features[i]+str(moving_average)+'ma'\n",
    "            x[coln] = x[select_features[i]].rolling(window=moving_average).mean()\n",
    "        \n",
    "    # train과 test를 다시 분리       \n",
    "    idx = x.index.get_loc('2022-06-21 00:00:00')\n",
    "    \n",
    "    # test를 위해 train과 test의 범위를 선행시간만큼 조정 \n",
    "    x_train=x[:idx-leadtime]\n",
    "    x_test=x[idx-leadtime:]\n",
    "    y_train = y[:idx - leadtime]\n",
    "    \n",
    "    if(version==1 and moving_average==0):\n",
    "        x_train=x_train[1:]\n",
    "        y_train=y_train[1:]\n",
    "\n",
    "    # 이동평균을 적용하면 생기는 nan을 없애주기 위함 \n",
    "    if(moving_average!=0):\n",
    "        x_train=x_train[moving_average:]\n",
    "        y_train=y_train[moving_average:]\n",
    "        \n",
    "    dataset=[x_train,x_test,y_train]\n",
    "    \n",
    "    return dataset"
   ]
  },
  {
   "cell_type": "code",
   "execution_count": 8,
   "id": "a4b394cc",
   "metadata": {},
   "outputs": [],
   "source": [
    "# 선행시간, 이동평균, 윈도우에 맞게 데이터셋을 제공 \n",
    "def load_dataset3(leadtime,moving_average,version):\n",
    "    \n",
    "    # 이동평균을 적용할 feature들 \n",
    "    select_features=['wl_js_br','wl_cd_br','wl_hj_br','wl_jn_br','wl_pd_dam','tl_gh_br']\n",
    "    # feature engineering 할 유량들.\n",
    "    fe_list=['cd_br','hj_br','jn_br']\n",
    "    \n",
    "    x=pd.concat([train_data,test_data],axis=0)\n",
    "    x.reset_index(drop=True,inplace=True)\n",
    "    x=x.set_index('ymdhm')\n",
    "    x.index=pd.to_datetime(x.index)\n",
    "    \n",
    "    # 선행시간을 적용하기 위해 타겟을미뤄줌 \n",
    "    y=x['target'].shift(-leadtime)\n",
    "    x.drop('target',axis=1,inplace=True)\n",
    "    \n",
    "    # feature engineer을 안함(유량정보없음)\n",
    "    if(version==0):\n",
    "        x.drop(['fw_cd_br','fw_hj_br','fw_jn_br'],axis=1,inplace=True)\n",
    "    # feature engineering 함(유량정보있고, 팔당댐도 엔지니어링)\n",
    "    if(version==1):\n",
    "        # feature engineering한 버전\n",
    "        x['otfinf']=x['tototf_pd_dam']-x['inf_pd_dam']\n",
    "        x.drop([ 'inf_pd_dam','ecpc_pd_dam', 'tototf_pd_dam'],axis=1,inplace=True)\n",
    "        \n",
    "        # 월과 시간에 대한 feature도 추가해줌 \n",
    "        x['month'],x['hour']=x.index.month,x.index.hour\n",
    "        \n",
    "        #! 유량 컬럼의 상관관계가 높아, \n",
    "        #! 이전시간과의 유량차이 column을 추가 \n",
    "    # 이동평균을 적용\n",
    "    if(moving_average>1):\n",
    "        for i in range(len(select_features)):\n",
    "            coln=select_features[i]+str(moving_average)+'ma'\n",
    "            x[coln] = x[select_features[i]].rolling(window=moving_average).mean()\n",
    "        \n",
    "    # train과 test를 다시 분리       \n",
    "    idx = x.index.get_loc('2022-06-21 00:00:00')\n",
    "    \n",
    "    # test를 위해 train과 test의 범위를 선행시간만큼 조정 \n",
    "    x_train=x[:idx-leadtime]\n",
    "    x_test=x[idx-leadtime:]\n",
    "    y_train = y[:idx - leadtime]\n",
    "    \n",
    "    if(version==1 and moving_average==0):\n",
    "        x_train=x_train[1:]\n",
    "        y_train=y_train[1:]\n",
    "\n",
    "    # 이동평균을 적용하면 생기는 nan을 없애주기 위함 \n",
    "    if(moving_average!=0):\n",
    "        x_train=x_train[moving_average:]\n",
    "        y_train=y_train[moving_average:]\n",
    "        \n",
    "    dataset=[x_train,x_test,y_train]\n",
    "    \n",
    "    return dataset"
   ]
  },
  {
   "cell_type": "code",
   "execution_count": 9,
   "id": "47a17b3b",
   "metadata": {
    "ExecuteTime": {
     "end_time": "2023-05-31T04:34:47.849243Z",
     "start_time": "2023-05-31T04:34:47.834006Z"
    }
   },
   "outputs": [],
   "source": [
    "def create_model(filepath,epoch,base_set):\n",
    "    \n",
    "    print(\"Modeling Start*******\")\n",
    "    # optuna 학습 \n",
    "    study_model = optuna.create_study(direction='minimize', sampler=sampler)\n",
    "    \n",
    "    # early-stopping callback 추가\n",
    "    early_stopping = EarlyStoppingCallback(15, direction='minimize')\n",
    "    study_model.optimize(objective_randomforest, epoch, callbacks=[early_stopping])\n",
    "    \n",
    "    # optuna 학습결과 파라미터 가져오기\n",
    "    trial = study_model.best_trial\n",
    "    trial_params = trial.params\n",
    "    print(\" Value: \", trial.value)\n",
    "    print(\" Params: \")\n",
    "    for key, value in trial_params.items():\n",
    "        print(f\"    {key}: {value}\")\n",
    "        \n",
    "    # optuna로 학습된 파라미터로 모델 재 학습 \n",
    "    model = RandomForestRegressor(**trial_params,random_state=624,) # 최적화된 파라미터를 통해 학습 \n",
    "    model.fit(base_set[0], base_set[2]) \n",
    "    pred = model.predict(base_set[1])\n",
    "    pred=pd.DataFrame(pred,columns=['wl_js_br'])\n",
    "    pred = pred[:-1] # 선행시간 10분에 따라 미뤄줌 \n",
    "    \n",
    "    return pred,study_model"
   ]
  },
  {
   "cell_type": "code",
   "execution_count": 10,
   "id": "7ab20bb5",
   "metadata": {
    "ExecuteTime": {
     "end_time": "2023-05-31T04:34:48.541819Z",
     "start_time": "2023-05-31T04:34:48.531850Z"
    }
   },
   "outputs": [],
   "source": [
    "sampler = TPESampler(seed=10)\n",
    "\n",
    "def objective_randomforest(trial):\n",
    "    \n",
    "    rf_param = {\n",
    "        'n_estimators': trial.suggest_int('n_estimators', 50, 1000),\n",
    "        'max_depth': trial.suggest_int('max_depth', 4, 50),\n",
    "        'min_samples_split': trial.suggest_int('min_samples_split', 2, 150),\n",
    "        'min_samples_leaf': trial.suggest_int('min_samples_leaf', 2, 60),\n",
    "        'n_jobs':-1\n",
    "    }\n",
    "    X_train, X_valid, y_train, y_valid = train_test_split(base_set[0], base_set[2], test_size=0.3, random_state=624)\n",
    "    \n",
    "    model = RandomForestRegressor(random_state=624, **rf_param)\n",
    "    model.fit(X_train,y_train)\n",
    "    \n",
    "    rmse = np.sqrt(mean_squared_error(y_valid, model.predict(X_valid)))\n",
    "    \n",
    "    return rmse"
   ]
  },
  {
   "cell_type": "code",
   "execution_count": 11,
   "id": "fad5947e",
   "metadata": {
    "ExecuteTime": {
     "end_time": "2023-05-31T04:34:49.130760Z",
     "start_time": "2023-05-31T04:34:49.118064Z"
    }
   },
   "outputs": [],
   "source": [
    "class EarlyStoppingCallback(object):\n",
    "    \n",
    "    # 평가지수가 감소하는 방향으로 학습하면 minimize\n",
    "    # 평가지수가 증가하는 방향으로 학습하면 maximize\n",
    "\n",
    "    def __init__(self, early_stopping_rounds: int, direction: str = \"minimize\") -> None:\n",
    "        self.early_stopping_rounds = early_stopping_rounds\n",
    "\n",
    "        self._iter = 0\n",
    "\n",
    "        if direction == \"minimize\":\n",
    "            self._operator = operator.lt\n",
    "            self._score = np.inf\n",
    "        elif direction == \"maximize\":\n",
    "            self._operator = operator.gt\n",
    "            self._score = -np.inf\n",
    "        else:\n",
    "            ValueError(f\"invalid direction: {direction}\")\n",
    "\n",
    "    def __call__(self, study: optuna.Study, trial: optuna.Trial) -> None:\n",
    "        \"\"\"Do early stopping.\"\"\"\n",
    "        if self._operator(study.best_value, self._score):\n",
    "            self._iter = 0\n",
    "            self._score = study.best_value\n",
    "        else:\n",
    "            self._iter += 1\n",
    "\n",
    "        if self._iter >= self.early_stopping_rounds:\n",
    "            study.stop()"
   ]
  },
  {
   "attachments": {},
   "cell_type": "markdown",
   "id": "f7c701c9",
   "metadata": {},
   "source": [
    "# Data Load and Preprocessing"
   ]
  },
  {
   "attachments": {},
   "cell_type": "markdown",
   "id": "2b6c022e",
   "metadata": {
    "ExecuteTime": {
     "end_time": "2023-05-15T08:29:42.038324Z",
     "start_time": "2023-05-15T08:29:42.031867Z"
    }
   },
   "source": [
    "## Origin data load"
   ]
  },
  {
   "cell_type": "code",
   "execution_count": null,
   "id": "48fc8322",
   "metadata": {
    "ExecuteTime": {
     "end_time": "2023-05-19T14:11:13.329243Z",
     "start_time": "2023-05-19T14:11:11.945607Z"
    },
    "scrolled": true
   },
   "outputs": [],
   "source": [
    "data=pd.read_csv(\"../data/full_data.csv\")\n",
    "train_data=pd.read_csv(\"../data/train_data.csv\")\n",
    "test_data=pd.read_csv(\"../data/test_data.csv\")"
   ]
  },
  {
   "attachments": {},
   "cell_type": "markdown",
   "id": "78186940",
   "metadata": {},
   "source": [
    "## data preprocessing"
   ]
  },
  {
   "cell_type": "code",
   "execution_count": null,
   "id": "d3764192",
   "metadata": {
    "ExecuteTime": {
     "end_time": "2023-05-19T14:12:28.565047Z",
     "start_time": "2023-05-19T14:12:27.989179Z"
    }
   },
   "outputs": [],
   "source": [
    "train_data = train_data.set_index(['ymdhm'],drop=True)\n",
    "train_data.index=pd.to_datetime(train_data.index)\n",
    "train_data=train_data.replace('##########',np.nan)\n",
    "train_data=train_data.replace(' ',np.nan)\n",
    "train_data=train_data.astype('float')\n",
    "train_data.drop(['fw_js_br'],axis=1,inplace=True)\n",
    "train_data.drop(['fw_gj_br'],axis=1,inplace=True)\n",
    "\n",
    "test_data = test_data.set_index(['ymdhm'],drop=True)\n",
    "test_data.index=pd.to_datetime(test_data.index)\n",
    "test_data=test_data.replace('##########',np.nan)\n",
    "test_data=test_data.replace(' ',np.nan)\n",
    "test_data=test_data.astype('float')\n",
    "test_data.drop(['fw_js_br'],axis=1,inplace=True)\n",
    "test_data.drop(['fw_gj_br'],axis=1,inplace=True)"
   ]
  },
  {
   "cell_type": "code",
   "execution_count": null,
   "id": "a6f7c1c6",
   "metadata": {
    "ExecuteTime": {
     "end_time": "2023-05-19T14:12:35.303687Z",
     "start_time": "2023-05-19T14:12:34.845455Z"
    }
   },
   "outputs": [],
   "source": [
    "rf_list=['pr_jg','pr_dg','pr_sj']\n",
    "wl_list=['wl_js_br','wl_cd_br','wl_hj_br','wl_hg_br','wl_gj_br','wl_pd_br','wl_jn_br']\n",
    "\n",
    "for col in train_data.columns:\n",
    "    if(col not in rf_list):\n",
    "        q1 = train_data[col].quantile(0.005)\n",
    "        train_data[col][train_data[col]<q1]=np.nan\n",
    "        if(col not in wl_list):\n",
    "            q99 = train_data[col].quantile(0.995)\n",
    "            train_data[col][train_data[col]>q99]=np.nan\n",
    "\n",
    "    train_data[col] = train_data[col].interpolate(method='time')\n",
    "train_data['wl_gj_br'] = mstats.winsorize(train_data['wl_gj_br'], limits=[0.01, 0.01])"
   ]
  },
  {
   "cell_type": "code",
   "execution_count": null,
   "id": "4a536552",
   "metadata": {
    "ExecuteTime": {
     "end_time": "2023-05-19T14:14:06.156120Z",
     "start_time": "2023-05-19T14:13:03.676871Z"
    }
   },
   "outputs": [],
   "source": [
    "rf_list=['pr_jg','pr_dg','pr_sj']\n",
    "wl_list=['wl_js_br','wl_cd_br','wl_hj_br','wl_hg_br','wl_gj_br','wl_pd_br','wl_jn_br']\n",
    "\n",
    "for col in test_data.columns:\n",
    "    if(col not in rf_list):\n",
    "        q1 = test_data[col].quantile(0.005)\n",
    "        test_data[col][test_data[col]<q1]=np.nan\n",
    "        if(col not in wl_list):\n",
    "            q99 = test_data[col].quantile(0.995)\n",
    "            test_data[col][test_data[col]>q99]=np.nan\n",
    "test_data['wl_gj_br'] = mstats.winsorize(test_data['wl_gj_br'], limits=[0.01, 0.01])\n",
    "\n",
    "data=pd.concat([train_data,test_data],axis=0)\n",
    "\n",
    "idx = data.loc[data.isna().any(axis=1)].index\n",
    "idx=idx.unique()\n",
    "for i in tqdm(idx):\n",
    "    tmp=data[:i]\n",
    "    tmp=tmp.interpolate(method='time')\n",
    "    for j in data.columns:\n",
    "        if pd.isna(data.loc[i, j]):\n",
    "            data.loc[i][j]=tmp.iloc[-1][j]\n",
    "idx = data.index.get_loc('2022-06-21 00:00:00')\n",
    "test_data=data[idx:]\n",
    "test_data.info()"
   ]
  },
  {
   "cell_type": "code",
   "execution_count": null,
   "id": "054a285a",
   "metadata": {
    "ExecuteTime": {
     "end_time": "2023-05-19T14:17:27.715296Z",
     "start_time": "2023-05-19T14:17:27.659357Z"
    }
   },
   "outputs": [],
   "source": [
    "train_data=train_data[['wl_js_br', 'wl_cd_br', 'wl_hj_br','wl_hg_br', 'wl_gj_br','wl_pd_br','wl_jn_br',\n",
    "                       'fw_cd_br', 'fw_hj_br', 'fw_hg_br', 'fw_pd_br','fw_jn_br',  \n",
    "                       'wl_pd_dam','inf_pd_dam', 'sfw_pd_dam', 'ecpc_pd_dam', 'tototf_pd_dam', \n",
    "                       'pr_jg','pr_dg', 'pr_sj', 'tl_gh_br', ]]\n",
    "test_data=test_data[['wl_js_br', 'wl_cd_br', 'wl_hj_br','wl_hg_br', 'wl_gj_br','wl_pd_br','wl_jn_br',\n",
    "                       'fw_cd_br', 'fw_hj_br', 'fw_hg_br', 'fw_pd_br','fw_jn_br',  \n",
    "                       'wl_pd_dam','inf_pd_dam', 'sfw_pd_dam', 'ecpc_pd_dam', 'tototf_pd_dam', \n",
    "                       'pr_jg','pr_dg', 'pr_sj', 'tl_gh_br', ]]"
   ]
  },
  {
   "cell_type": "code",
   "execution_count": null,
   "id": "cc3f0a49",
   "metadata": {
    "ExecuteTime": {
     "end_time": "2023-05-19T14:18:30.710638Z",
     "start_time": "2023-05-19T14:18:26.503717Z"
    }
   },
   "outputs": [],
   "source": [
    "train_data.to_csv(\"data/refined_train_data.csv\",index=False)\n",
    "test_data.to_csv(\"data/refined_test_data.csv\",index=False)"
   ]
  },
  {
   "attachments": {},
   "cell_type": "markdown",
   "id": "7fc49400",
   "metadata": {},
   "source": [
    "# Refined data load"
   ]
  },
  {
   "cell_type": "code",
   "execution_count": 12,
   "id": "6bfdf47c",
   "metadata": {
    "ExecuteTime": {
     "end_time": "2023-05-31T04:34:54.340803Z",
     "start_time": "2023-05-31T04:34:53.192165Z"
    }
   },
   "outputs": [],
   "source": [
    "data=pd.read_csv(\"../data/new_Refined_data.csv\")\n",
    "train_data=pd.read_csv(\"../data/refined_train_data.csv\")\n",
    "test_data=pd.read_csv(\"../data/refined_test_data.csv\")\n",
    "answer=pd.read_csv(\"../data/answer.csv\")\n",
    "\n",
    "train_data['target']=train_data['wl_js_br']\n",
    "test_data['target']=0\n",
    "# answer\n",
    "\n",
    "train_data.drop(['wl_hg_br','fw_hg_br','wl_gj_br','wl_pd_br','fw_pd_br'],axis=1,inplace=True)\n",
    "test_data.drop(['wl_hg_br','fw_hg_br','wl_gj_br','wl_pd_br','fw_pd_br'],axis=1,inplace=True)"
   ]
  },
  {
   "cell_type": "code",
   "execution_count": 13,
   "id": "cfa55030",
   "metadata": {},
   "outputs": [
    {
     "name": "stderr",
     "output_type": "stream",
     "text": [
      "100%|██████████| 497945/497945 [02:56<00:00, 2824.64it/s]\n"
     ]
    }
   ],
   "source": [
    "x,y=[],[]\n",
    "data=load_dataset2(0,0,1)\n",
    "data[0].reset_index(drop=True,inplace=True)\n",
    "data[1].reset_index(drop=True,inplace=True)\n",
    "data[2].reset_index(drop=True,inplace=True)\n",
    "features=['wl_js_br', 'pr_jg', 'pr_dg', 'pr_sj', 'tl_gh_br', 'month', 'hour',\n",
    "       'flow', 'water', 'cd_br', 'hj_br', 'jn_br']\n",
    "for i in tqdm(range(len(data[0])-6)):\n",
    "    x.append(np.array(data[0].loc[i:i+5, features]).astype(float))\n",
    "    y.append(np.array(data[2].loc[i+6]).astype(float))\n",
    "x_train = np.array(x)\n",
    "y_train = np.array(y)"
   ]
  },
  {
   "cell_type": "code",
   "execution_count": 14,
   "id": "bf36763a",
   "metadata": {},
   "outputs": [
    {
     "name": "stderr",
     "output_type": "stream",
     "text": [
      "100%|██████████| 13242/13242 [00:04<00:00, 2926.65it/s]\n"
     ]
    }
   ],
   "source": [
    "x=[]\n",
    "for i in tqdm(range(len(data[1])-6)):\n",
    "    x.append(np.array(data[1].loc[i:i+5, features]).astype(float))\n",
    "x_test = np.array(x)"
   ]
  },
  {
   "cell_type": "code",
   "execution_count": 15,
   "id": "748dc61a",
   "metadata": {},
   "outputs": [
    {
     "data": {
      "text/plain": [
       "(497945, 6, 12)"
      ]
     },
     "execution_count": 15,
     "metadata": {},
     "output_type": "execute_result"
    }
   ],
   "source": [
    "x_train.shape"
   ]
  },
  {
   "cell_type": "code",
   "execution_count": 17,
   "id": "0b8a3fa1",
   "metadata": {},
   "outputs": [
    {
     "name": "stdout",
     "output_type": "stream",
     "text": [
      "WARNING:tensorflow:From c:\\Users\\user\\anaconda3\\envs\\water_project\\lib\\site-packages\\tensorflow\\python\\compat\\v2_compat.py:107: disable_resource_variables (from tensorflow.python.ops.variable_scope) is deprecated and will be removed in a future version.\n",
      "Instructions for updating:\n",
      "non-resource variables are not supported in the long term\n",
      "WARNING:tensorflow:Layer lstm will not use cuDNN kernels since it doesn't meet the criteria. It will use a generic GPU kernel as fallback when running on GPU.\n"
     ]
    }
   ],
   "source": [
    "import tensorflow as tf\n",
    "from keras.models import Sequential\n",
    "from keras.layers import Dense, LSTM, GRU, AveragePooling1D, GlobalAveragePooling1D\n",
    "from tensorflow.compat.v1.keras.backend import get_session\n",
    "tf.compat.v1.disable_v2_behavior()\n",
    "\n",
    "input_shape = (x_train[0].shape[0], x_train[0].shape[1])\n",
    "\n",
    "model = Sequential()\n",
    "model.add(LSTM(256, input_shape=(6,12)))\n",
    "model.add(Dense(1, activation='relu'))\n",
    "\n",
    "optimizer = tf.optimizers.RMSprop(0.001)\n",
    "\n",
    "model.compile(optimizer=optimizer,loss='mse', metrics=[tf.keras.metrics.RootMeanSquaredError()])"
   ]
  },
  {
   "cell_type": "code",
   "execution_count": 18,
   "id": "1def032c",
   "metadata": {},
   "outputs": [
    {
     "name": "stdout",
     "output_type": "stream",
     "text": [
      "Train on 497945 samples\n",
      "497945/497945 [==============================] - 16s 31us/sample - loss: 9433.6841 - root_mean_squared_error: 97.1271\n"
     ]
    },
    {
     "data": {
      "text/plain": [
       "<keras.callbacks.History at 0x2c73630aeb0>"
      ]
     },
     "execution_count": 18,
     "metadata": {},
     "output_type": "execute_result"
    }
   ],
   "source": [
    "model.fit(x_train, y_train, epochs=1, batch_size=128)"
   ]
  },
  {
   "cell_type": "code",
   "execution_count": 19,
   "id": "1a2e4630",
   "metadata": {},
   "outputs": [],
   "source": [
    "y_pred=model.predict(x_test)"
   ]
  },
  {
   "cell_type": "code",
   "execution_count": 20,
   "id": "a8fd0adb",
   "metadata": {},
   "outputs": [],
   "source": [
    "from tensorflow.keras.models import load_model\n",
    "\n",
    "model.save('lstm_model(1).h5')"
   ]
  },
  {
   "cell_type": "code",
   "execution_count": 21,
   "id": "898c2499",
   "metadata": {},
   "outputs": [],
   "source": [
    "y_pred=pd.DataFrame(y_pred)"
   ]
  },
  {
   "cell_type": "code",
   "execution_count": 22,
   "id": "5ed7228a",
   "metadata": {},
   "outputs": [
    {
     "data": {
      "image/png": "[encoded data removed]",
      "text/plain": [
       "<Figure size 1500x1000 with 1 Axes>"
      ]
     },
     "metadata": {},
     "output_type": "display_data"
    }
   ],
   "source": [
    "fig=plt.figure(figsize=(15,10))\n",
    "plt.plot(y_pred) # 선행시간 10m\n",
    "plt.plot(answer) # 선행시간 30m\n",
    "plt.legend(['pred','answer'],fontsize=20)\n",
    "plt.show();"
   ]
  },
  {
   "cell_type": "code",
   "execution_count": 36,
   "id": "8ffb004b",
   "metadata": {},
   "outputs": [
    {
     "ename": "AttributeError",
     "evalue": "'Deep' object has no attribute 'masker'",
     "output_type": "error",
     "traceback": [
      "\u001b[1;31m---------------------------------------------------------------------------\u001b[0m",
      "\u001b[1;31mAttributeError\u001b[0m                            Traceback (most recent call last)",
      "Cell \u001b[1;32mIn[36], line 5\u001b[0m\n\u001b[0;32m      3\u001b[0m \u001b[39m# we use the first 100 training examples as our background dataset to integrate over\u001b[39;00m\n\u001b[0;32m      4\u001b[0m explainer \u001b[39m=\u001b[39m shap\u001b[39m.\u001b[39mDeepExplainer(model, x_train[:\u001b[39m100\u001b[39m])\n\u001b[1;32m----> 5\u001b[0m shap_values \u001b[39m=\u001b[39m explainer(x_test[:\u001b[39m10\u001b[39;49m])\n\u001b[0;32m      6\u001b[0m \u001b[39m# explain the first 10 predictions\u001b[39;00m\n\u001b[0;32m      7\u001b[0m \u001b[39m# explaining each prediction requires 2 * background dataset size runs\u001b[39;00m\n\u001b[0;32m      8\u001b[0m \u001b[39m#shap_values = explainer.shap_values(x_test[:10],check_additivity=False)\u001b[39;00m\n",
      "File \u001b[1;32mc:\\Users\\user\\anaconda3\\envs\\water_project\\lib\\site-packages\\shap\\explainers\\_explainer.py:215\u001b[0m, in \u001b[0;36mExplainer.__call__\u001b[1;34m(self, max_evals, main_effects, error_bounds, batch_size, outputs, silent, *args, **kwargs)\u001b[0m\n\u001b[0;32m    210\u001b[0m \u001b[39m# if max_evals == \"auto\":\u001b[39;00m\n\u001b[0;32m    211\u001b[0m \u001b[39m#     self._brute_force_fallback\u001b[39;00m\n\u001b[0;32m    213\u001b[0m start_time \u001b[39m=\u001b[39m time\u001b[39m.\u001b[39mtime()\n\u001b[1;32m--> 215\u001b[0m \u001b[39mif\u001b[39;00m \u001b[39missubclass\u001b[39m(\u001b[39mtype\u001b[39m(\u001b[39mself\u001b[39;49m\u001b[39m.\u001b[39;49mmasker), maskers\u001b[39m.\u001b[39mOutputComposite) \u001b[39mand\u001b[39;00m \u001b[39mlen\u001b[39m(args)\u001b[39m==\u001b[39m\u001b[39m2\u001b[39m:\n\u001b[0;32m    216\u001b[0m     \u001b[39mself\u001b[39m\u001b[39m.\u001b[39mmasker\u001b[39m.\u001b[39mmodel \u001b[39m=\u001b[39m models\u001b[39m.\u001b[39mTextGeneration(target_sentences\u001b[39m=\u001b[39margs[\u001b[39m1\u001b[39m])\n\u001b[0;32m    217\u001b[0m     args \u001b[39m=\u001b[39m args[:\u001b[39m1\u001b[39m]\n",
      "\u001b[1;31mAttributeError\u001b[0m: 'Deep' object has no attribute 'masker'"
     ]
    }
   ],
   "source": [
    "import shap\n",
    "\n",
    "# we use the first 100 training examples as our background dataset to integrate over\n",
    "explainer = shap.DeepExplainer(model, x_train[:100])\n",
    "# explain the first 10 predictions\n",
    "# explaining each prediction requires 2 * background dataset size runs\n",
    "shap_values = explainer.shap_values(x_test[:10],check_additivity=False)\n",
    "\n",
    "shap.image_plot(shap_values, -x_test[1:5])"
   ]
  },
  {
   "cell_type": "code",
   "execution_count": 34,
   "id": "45366925",
   "metadata": {},
   "outputs": [
    {
     "ename": "AssertionError",
     "evalue": "You must pass an Explanation object, Cohorts object, or dictionary to bar plot!",
     "output_type": "error",
     "traceback": [
      "\u001b[1;31m---------------------------------------------------------------------------\u001b[0m",
      "\u001b[1;31mAssertionError\u001b[0m                            Traceback (most recent call last)",
      "Cell \u001b[1;32mIn[34], line 1\u001b[0m\n\u001b[1;32m----> 1\u001b[0m shap\u001b[39m.\u001b[39;49mplots\u001b[39m.\u001b[39;49mbar(explainer)\n",
      "File \u001b[1;32mc:\\Users\\user\\anaconda3\\envs\\water_project\\lib\\site-packages\\shap\\plots\\_bar.py:51\u001b[0m, in \u001b[0;36mbar\u001b[1;34m(shap_values, max_display, order, clustering, clustering_cutoff, merge_cohorts, show_data, show)\u001b[0m\n\u001b[0;32m     49\u001b[0m     cohorts \u001b[39m=\u001b[39m shap_values\u001b[39m.\u001b[39mcohorts\n\u001b[0;32m     50\u001b[0m \u001b[39melse\u001b[39;00m:\n\u001b[1;32m---> 51\u001b[0m     \u001b[39massert\u001b[39;00m \u001b[39misinstance\u001b[39m(shap_values, \u001b[39mdict\u001b[39m), \u001b[39m\"\u001b[39m\u001b[39mYou must pass an Explanation object, Cohorts object, or dictionary to bar plot!\u001b[39m\u001b[39m\"\u001b[39m\n\u001b[0;32m     53\u001b[0m \u001b[39m# unpack our list of Explanation objects we need to plot\u001b[39;00m\n\u001b[0;32m     54\u001b[0m cohort_labels \u001b[39m=\u001b[39m \u001b[39mlist\u001b[39m(cohorts\u001b[39m.\u001b[39mkeys())\n",
      "\u001b[1;31mAssertionError\u001b[0m: You must pass an Explanation object, Cohorts object, or dictionary to bar plot!"
     ]
    }
   ],
   "source": [
    "shap.plots.bar(explainer)"
   ]
  },
  {
   "cell_type": "code",
   "execution_count": 24,
   "id": "692a6251",
   "metadata": {},
   "outputs": [],
   "source": [
    "import numpy as np\n",
    "np.bool = np.bool_\n",
    "np.int = np.int_"
   ]
  },
  {
   "cell_type": "code",
   "execution_count": 23,
   "id": "1ea55cb8",
   "metadata": {},
   "outputs": [
    {
     "name": "stdout",
     "output_type": "stream",
     "text": [
      "1.24.3\n"
     ]
    }
   ],
   "source": [
    "print(np.__version__)"
   ]
  },
  {
   "cell_type": "code",
   "execution_count": 24,
   "id": "8af4012c",
   "metadata": {},
   "outputs": [
    {
     "name": "stdout",
     "output_type": "stream",
     "text": [
      "Requirement already satisfied: shap==0.41.0 in c:\\users\\user\\anaconda3\\envs\\water_project\\lib\\site-packages (0.41.0)\n",
      "Requirement already satisfied: numpy in c:\\users\\user\\anaconda3\\envs\\water_project\\lib\\site-packages (from shap==0.41.0) (1.23.2)\n",
      "Requirement already satisfied: scipy in c:\\users\\user\\anaconda3\\envs\\water_project\\lib\\site-packages (from shap==0.41.0) (1.10.1)\n",
      "Requirement already satisfied: scikit-learn in c:\\users\\user\\anaconda3\\envs\\water_project\\lib\\site-packages (from shap==0.41.0) (1.2.2)\n",
      "Requirement already satisfied: pandas in c:\\users\\user\\anaconda3\\envs\\water_project\\lib\\site-packages (from shap==0.41.0) (1.5.2)\n",
      "Requirement already satisfied: tqdm>4.25.0 in c:\\users\\user\\anaconda3\\envs\\water_project\\lib\\site-packages (from shap==0.41.0) (4.65.0)\n",
      "Requirement already satisfied: packaging>20.9 in c:\\users\\user\\anaconda3\\envs\\water_project\\lib\\site-packages (from shap==0.41.0) (23.1)\n",
      "Requirement already satisfied: slicer==0.0.7 in c:\\users\\user\\anaconda3\\envs\\water_project\\lib\\site-packages (from shap==0.41.0) (0.0.7)\n",
      "Requirement already satisfied: numba in c:\\users\\user\\anaconda3\\envs\\water_project\\lib\\site-packages (from shap==0.41.0) (0.57.0)\n",
      "Requirement already satisfied: cloudpickle in c:\\users\\user\\anaconda3\\envs\\water_project\\lib\\site-packages (from shap==0.41.0) (2.2.1)\n",
      "Requirement already satisfied: colorama in c:\\users\\user\\anaconda3\\envs\\water_project\\lib\\site-packages (from tqdm>4.25.0->shap==0.41.0) (0.4.6)\n",
      "Requirement already satisfied: llvmlite<0.41,>=0.40.0dev0 in c:\\users\\user\\anaconda3\\envs\\water_project\\lib\\site-packages (from numba->shap==0.41.0) (0.40.1rc1)\n",
      "Requirement already satisfied: importlib-metadata in c:\\users\\user\\anaconda3\\envs\\water_project\\lib\\site-packages (from numba->shap==0.41.0) (6.6.0)\n",
      "Requirement already satisfied: python-dateutil>=2.8.1 in c:\\users\\user\\anaconda3\\envs\\water_project\\lib\\site-packages (from pandas->shap==0.41.0) (2.8.2)\n",
      "Requirement already satisfied: pytz>=2020.1 in c:\\users\\user\\anaconda3\\envs\\water_project\\lib\\site-packages (from pandas->shap==0.41.0) (2023.3)\n",
      "Requirement already satisfied: joblib>=1.1.1 in c:\\users\\user\\anaconda3\\envs\\water_project\\lib\\site-packages (from scikit-learn->shap==0.41.0) (1.2.0)\n",
      "Requirement already satisfied: threadpoolctl>=2.0.0 in c:\\users\\user\\anaconda3\\envs\\water_project\\lib\\site-packages (from scikit-learn->shap==0.41.0) (3.1.0)\n",
      "Requirement already satisfied: six>=1.5 in c:\\users\\user\\anaconda3\\envs\\water_project\\lib\\site-packages (from python-dateutil>=2.8.1->pandas->shap==0.41.0) (1.16.0)\n",
      "Requirement already satisfied: zipp>=0.5 in c:\\users\\user\\anaconda3\\envs\\water_project\\lib\\site-packages (from importlib-metadata->numba->shap==0.41.0) (3.15.0)\n",
      "Note: you may need to restart the kernel to use updated packages.\n"
     ]
    }
   ],
   "source": [
    "pip install shap==0.41.0"
   ]
  },
  {
   "cell_type": "code",
   "execution_count": null,
   "id": "6465a618",
   "metadata": {},
   "outputs": [],
   "source": []
  }
 ],
 "metadata": {
  "kernelspec": {
   "display_name": "water_project",
   "language": "python",
   "name": "python3"
  },
  "language_info": {
   "codemirror_mode": {
    "name": "ipython",
    "version": 3
   },
   "file_extension": ".py",
   "mimetype": "text/x-python",
   "name": "python",
   "nbconvert_exporter": "python",
   "pygments_lexer": "ipython3",
   "version": "3.8.16"
  },
  "toc": {
   "base_numbering": 1,
   "nav_menu": {},
   "number_sections": true,
   "sideBar": true,
   "skip_h1_title": false,
   "title_cell": "Table of Contents",
   "title_sidebar": "Contents",
   "toc_cell": false,
   "toc_position": {
    "height": "797.766px",
    "left": "461.969px",
    "top": "132.438px",
    "width": "240.375px"
   },
   "toc_section_display": true,
   "toc_window_display": true
  },
  "varInspector": {
   "cols": {
    "lenName": 16,
    "lenType": 16,
    "lenVar": 40
   },
   "kernels_config": {
    "python": {
     "delete_cmd_postfix": "",
     "delete_cmd_prefix": "del ",
     "library": "var_list.py",
     "varRefreshCmd": "print(var_dic_list())"
    },
    "r": {
     "delete_cmd_postfix": ") ",
     "delete_cmd_prefix": "rm(",
     "library": "var_list.r",
     "varRefreshCmd": "cat(var_dic_list()) "
    }
   },
   "oldHeight": 680.844,
   "position": {
    "height": "40px",
    "left": "1335.3px",
    "right": "20px",
    "top": "183.969px",
    "width": "582px"
   },
   "types_to_exclude": [
    "module",
    "function",
    "builtin_function_or_method",
    "instance",
    "_Feature"
   ],
   "varInspector_section_display": "none",
   "window_display": false
  }
 },
 "nbformat": 4,
 "nbformat_minor": 5
}
