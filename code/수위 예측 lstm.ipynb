{
 "cells": [
  {
   "attachments": {},
   "cell_type": "markdown",
   "id": "b704b660",
   "metadata": {},
   "source": [
    "# Import"
   ]
  },
  {
   "attachments": {},
   "cell_type": "markdown",
   "id": "e4df0e5f",
   "metadata": {},
   "source": [
    "## library"
   ]
  },
  {
   "cell_type": "code",
   "execution_count": null,
   "id": "6a1c95ee",
   "metadata": {
    "ExecuteTime": {
     "end_time": "2023-05-31T04:34:40.283723Z",
     "start_time": "2023-05-31T04:34:37.938576Z"
    }
   },
   "outputs": [],
   "source": [
    "import os \n",
    "import operator\n",
    "import tensorflow as tf\n",
    "from tensorflow.python.client import device_lib\n",
    "\n",
    "device_lib.list_local_devices()\n",
    "\n",
    "\n",
    "gpus = tf.config.list_physical_devices('GPU')\n",
    "if gpus:\n",
    "    try:\n",
    "        for gpu in gpus:\n",
    "            tf.config.experimental.set_memory_growth(gpu, True)\n",
    "            logical_gpus = tf.config.list_logical_devices('GPU')\n",
    "        print(len(gpus), \"Physical GPUs,\", len(logical_gpus), \"Logical GPUs\")\n",
    "    except RuntimeError as e:\n",
    "        print(e)\n",
    "\n",
    "os.environ['TF_CPP_MIN_LOG_LEVEL'] = '3'\n",
    "os.environ[\"CUDA_VISIBLE_DEVICES\"] = \"\"\n",
    "\n",
    "import numpy as np\n",
    "import pandas as pd\n",
    "import math\n",
    "from glob import glob\n",
    "from tqdm import tqdm\n",
    "from pandas.tseries.offsets import DateOffset\n",
    "from IPython.core.interactiveshell import InteractiveShell\n",
    "InteractiveShell.ast_node_interactivity = 'all'\n",
    "\n",
    "import warnings\n",
    "warnings.filterwarnings(action='ignore')\n",
    "\n",
    "import seaborn as sns \n",
    "import matplotlib\n",
    "import matplotlib.pyplot as plt\n",
    "import matplotlib.font_manager as fm\n",
    "import matplotlib.ticker as ticker\n",
    "import matplotlib.dates as mdates\n",
    "import matplotlib.cm as cm\n",
    "from IPython.display import set_matplotlib_formats\n",
    "\n",
    "sns.set(style='white', context='notebook', palette='deep')\n",
    "line_color = ['#FFBF00','#FF7F50','#DE3163','#9FE2BF','#40E0D0','#6495ED','#117A65','#2471A3','#CCCCFF','#8E44AD','#CD5C5C' ,'#F08080','#FA8072' ,'#E9967A' ,'#FFA07A']\n",
    "plt.style.use('fivethirtyeight')\n",
    "plt.style.use(\"seaborn-white\")\n",
    "plt.rcParams['font.family'] = 'Malgun Gothic'\n",
    "matplotlib.rcParams['axes.unicode_minus'] = False\n",
    "#print(plt.rcParams['font.family'])\n",
    "%matplotlib inline"
   ]
  },
  {
   "cell_type": "code",
   "execution_count": null,
   "id": "0f0ce72b",
   "metadata": {
    "ExecuteTime": {
     "end_time": "2023-05-31T04:34:43.538269Z",
     "start_time": "2023-05-31T04:34:42.750463Z"
    }
   },
   "outputs": [],
   "source": [
    "#? 통계\n",
    "#import statsmodels.api as sm\n",
    "from mlxtend.feature_selection import SequentialFeatureSelector as SFS\n",
    "from scipy.stats import mstats\n",
    "from statsmodels.stats.outliers_influence import variance_inflation_factor\n",
    "from sklearn.decomposition import PCA\n",
    "\n",
    "#? 평가지표\n",
    "import hydroeval as he\n",
    "from sklearn.metrics import mean_squared_error\n",
    "from sklearn.metrics import r2_score"
   ]
  },
  {
   "attachments": {},
   "cell_type": "markdown",
   "id": "c614a205",
   "metadata": {},
   "source": [
    "## function"
   ]
  },
  {
   "cell_type": "code",
   "execution_count": null,
   "id": "a1ca76fc",
   "metadata": {
    "ExecuteTime": {
     "end_time": "2023-05-31T04:34:45.105437Z",
     "start_time": "2023-05-31T04:34:45.089490Z"
    }
   },
   "outputs": [],
   "source": [
    "# 예측과 실제 수위를 scatter plot해주는 함수 \n",
    "def scatter_plot(pred,answer):\n",
    "    x = pred\n",
    "    y = answer\n",
    "\n",
    "    fig, axes = plt.subplots(1, 1, figsize=(7, 7))\n",
    "    rmse,nse,r2=metric(y,x)\n",
    "    axes.scatter(x, y, label='data') \n",
    "    lims = [np.min([axes.get_xlim(), axes.get_ylim()]), np.max([axes.get_xlim(), axes.get_ylim()]), ]\n",
    "    axes.plot(lims, lims, 'k--', alpha=0.75, zorder=0, label='parity')\n",
    "    axes.set_aspect('equal')\n",
    "    axes.set_xlabel('Prediction',fontsize=25)\n",
    "    axes.set_ylabel('Observation',fontsize=25)\n",
    "    handles, labels = axes.get_legend_handles_labels()\n",
    "    txt1=\"(a)   Jamsu bridge RMSE %.4f\"%rmse\n",
    "    axes.set_title(txt1, fontsize=25,loc='left')\n",
    "    axes.xaxis.set_tick_params(labelsize=20)\n",
    "    axes.yaxis.set_tick_params(labelsize=20)\n",
    "\n",
    "    return fig"
   ]
  },
  {
   "cell_type": "code",
   "execution_count": null,
   "id": "255766ab",
   "metadata": {
    "ExecuteTime": {
     "end_time": "2023-05-31T04:34:45.859062Z",
     "start_time": "2023-05-31T04:34:45.854148Z"
    }
   },
   "outputs": [],
   "source": [
    "# 파일이 존재하는지 확인하는 함수 \n",
    "def check(filepath):\n",
    "    csv_files = glob(os.path.join(filepath, \"*.csv\"))\n",
    "    if len(csv_files) > 0:return 1\n",
    "    else:return 0\n",
    "    \n",
    "# 그래프에 rmse를 표시해주는 함수 \n",
    "def plot_rmse(ax, answer, preds, label):\n",
    "        ax.text(1.0, 0.95, '  {:.3f}  '.format(metric(answer,preds)[0]),\n",
    "                fontsize=93, ha='right', va='top', transform=ax.transAxes)\n",
    "        \n",
    "# rmse와 nse를 계산해주는 함수(m단위)\n",
    "def metric(y_true, y_pred):\n",
    "    y_true=y_true/100\n",
    "    y_pred=y_pred/100\n",
    "    rmse = np.sqrt(mean_squared_error(y_true, y_pred))\n",
    "    r2 = r2_score(y_true, y_pred)\n",
    "    nse=he.evaluator(he.nse, y_pred, y_true)\n",
    "    return rmse,nse,r2"
   ]
  },
  {
   "cell_type": "code",
   "execution_count": null,
   "id": "f1aaf87b",
   "metadata": {
    "ExecuteTime": {
     "end_time": "2023-05-31T04:34:47.170463Z",
     "start_time": "2023-05-31T04:34:47.162491Z"
    }
   },
   "outputs": [],
   "source": [
    "# 선행시간, 이동평균, 윈도우에 맞게 데이터셋을 제공 \n",
    "def load_dataset(leadtime,moving_average,version):\n",
    "    \n",
    "    # 이동평균을 적용할 feature들 \n",
    "    select_features=['cd_br','hj_br','jn_br','tl_gh_br','flow','water','wl_js_br']\n",
    "    # feature engineering 할 유량들.\n",
    "    fe_list=['cd_br','hj_br','jn_br']\n",
    "    \n",
    "    x=pd.concat([train_data,test_data],axis=0)\n",
    "    x.reset_index(drop=True,inplace=True)\n",
    "    x=x.set_index('ymdhm')\n",
    "    x.index=pd.to_datetime(x.index)\n",
    "    \n",
    "    # 선행시간을 적용하기 위해 타겟을미뤄줌 \n",
    "    y=x['target']\n",
    "    x.drop('target',axis=1,inplace=True)\n",
    "    \n",
    "    # feature engineer을 안함(유량정보없음)\n",
    "    if(version==0):\n",
    "        x.drop(['fw_cd_br','fw_hj_br','fw_jn_br'],axis=1,inplace=True)\n",
    "    # feature engineering 함(유량정보있고, 팔당댐도 엔지니어링)\n",
    "    if(version==1):\n",
    "\n",
    "        # 월과 시간에 대한 feature도 추가해줌 \n",
    "        x['month'],x['hour']=x.index.month,x.index.hour\n",
    "\n",
    "        flow = PCA(n_components=1)\n",
    "        flow.fit(x[['tototf_pd_dam','inf_pd_dam']])\n",
    "        transformed_data = flow.transform(x[['tototf_pd_dam','inf_pd_dam']])  # 변환된 데이터\n",
    "        x['flow']=transformed_data\n",
    "        \n",
    "        water = PCA(n_components=1)\n",
    "        water.fit(x[['sfw_pd_dam','wl_pd_dam']])\n",
    "        transformed_data = water.transform(x[['sfw_pd_dam','wl_pd_dam']])  # 변환된 데이터\n",
    "        x['water']=transformed_data\n",
    "        \n",
    "        x.drop(['tototf_pd_dam','inf_pd_dam','sfw_pd_dam','wl_pd_dam','ecpc_pd_dam'],axis=1,inplace=True)\n",
    "        \n",
    "        fe_list=['cd_br','hj_br','jn_br']\n",
    "        for i in fe_list:\n",
    "            v_name = f\"{i}_pca\"  # 동적으로 생성할 변수명\n",
    "            f_name,w_name = \"fw_\"+i, 'wl_'+i\n",
    "            tmp=x[[f_name,w_name]]\n",
    "            globals()[v_name] = PCA(n_components=1)  # 변수 생성\n",
    "            globals()[v_name].fit(tmp)  # PCA 수행\n",
    "            transformed_data = globals()[v_name].transform(tmp)  # 변환된 데이터\n",
    "            x[i]=transformed_data\n",
    "            x.drop([f_name],axis=1,inplace=True)\n",
    "            if(moving_average<1): x.drop([w_name],axis=1,inplace=True)\n",
    "       \n",
    "    # 이동평균을 적용\n",
    "    if(moving_average>1):\n",
    "        for i in range(len(select_features)):\n",
    "            coln=select_features[i]+str(moving_average)+'ma'\n",
    "            x[coln] = x[select_features[i]].rolling(window=moving_average).mean()\n",
    "            if(i<3):x.drop('wl_'+select_features[i],axis=1,inplace=True)\n",
    "            \n",
    "    # train과 test를 다시 분리       \n",
    "    idx = x.index.get_loc('2022-06-21 00:00:00')\n",
    "    \n",
    "    # test를 위해 train과 test의 범위를 선행시간만큼 조정 \n",
    "    x_train=x[:idx]\n",
    "    x_test=x[idx:]\n",
    "    y_train = y[:idx]\n",
    "    \n",
    "    if(version==1 and moving_average==0):\n",
    "        x_train=x_train[1:]\n",
    "        y_train=y_train[1:]\n",
    "\n",
    "    # 이동평균을 적용하면 생기는 nan을 없애주기 위함 \n",
    "    if(moving_average!=0):\n",
    "        x_train=x_train[moving_average:]\n",
    "        y_train=y_train[moving_average:]\n",
    "        \n",
    "    x_train.reset_index(drop=True,inplace=True)\n",
    "    x_test.reset_index(drop=True,inplace=True)\n",
    "    y_train.reset_index(drop=True,inplace=True)\n",
    "        \n",
    "    features=['wl_js_br', 'pr_jg', 'pr_dg', 'pr_sj', 'tl_gh_br', 'month', 'hour',\n",
    "       'flow', 'water', 'cd_br', 'hj_br', 'jn_br']\n",
    "    \n",
    "    x_trains,y_trains,x_tests=[],[],[]\n",
    "    for i in tqdm(range(len(x_train)-6)):\n",
    "        x_trains.append(np.array(x_train.loc[i:i+5, features]).astype(float))\n",
    "        y_trains.append(np.array(y_train.loc[i+5+leadtime]).astype(float))\n",
    "        \n",
    "    for i in tqdm(range(len(x_test)-6)):\n",
    "        x_tests.append(np.array(x_test.loc[i:i+5, features]).astype(float))\n",
    "        \n",
    "    x_train = np.array(x_trains)\n",
    "    y_train = np.array(y_trains)    \n",
    "    x_test = np.array(x_tests)\n",
    "    \n",
    "    dataset=[x_train,x_test,y_train]\n",
    "    \n",
    "    return dataset"
   ]
  },
  {
   "attachments": {},
   "cell_type": "markdown",
   "id": "f7c701c9",
   "metadata": {},
   "source": [
    "# Data Load and Preprocessing"
   ]
  },
  {
   "attachments": {},
   "cell_type": "markdown",
   "id": "7fc49400",
   "metadata": {},
   "source": [
    "# Refined data load"
   ]
  },
  {
   "cell_type": "code",
   "execution_count": null,
   "id": "6bfdf47c",
   "metadata": {
    "ExecuteTime": {
     "end_time": "2023-05-31T04:34:54.340803Z",
     "start_time": "2023-05-31T04:34:53.192165Z"
    }
   },
   "outputs": [],
   "source": [
    "data=pd.read_csv(\"../data/new_Refined_data.csv\")\n",
    "train_data=pd.read_csv(\"../data/refined_train_data.csv\")\n",
    "test_data=pd.read_csv(\"../data/refined_test_data.csv\")\n",
    "answer=pd.read_csv(\"../data/answer.csv\")\n",
    "\n",
    "train_data['target']=train_data['wl_js_br']\n",
    "test_data['target']=0\n",
    "# answer\n",
    "\n",
    "train_data.drop(['wl_hg_br','fw_hg_br','wl_gj_br','wl_pd_br','fw_pd_br'],axis=1,inplace=True)\n",
    "test_data.drop(['wl_hg_br','fw_hg_br','wl_gj_br','wl_pd_br','fw_pd_br'],axis=1,inplace=True)"
   ]
  },
  {
   "cell_type": "code",
   "execution_count": null,
   "id": "cfa55030",
   "metadata": {},
   "outputs": [],
   "source": [
    "leadtime=1\n",
    "\n",
    "#data=load_dataset(leadtime,0,1)\n",
    "\n",
    "leadtime=str(leadtime)+'0'\n",
    "#np.save(f\"../data/numpy_data/leadtime({leadtime})/x_train.npy\",data[0])\n",
    "#np.save(f\"../data/numpy_data/leadtime({leadtime})/x_test.npy\",data[1])\n",
    "#np.save(f\"../data/numpy_data/leadtime({leadtime})/y_train.npy\",data[2])\n",
    "\n",
    "x_train=np.load(f\"../data/numpy_data/leadtime({leadtime})/x_train.npy\")\n",
    "x_test=np.load(f\"../data/numpy_data/leadtime({leadtime})/x_test.npy\")\n",
    "y_train=np.load(f\"../data/numpy_data/leadtime({leadtime})/y_train.npy\")"
   ]
  },
  {
   "cell_type": "code",
   "execution_count": null,
   "id": "2d2b2f21",
   "metadata": {},
   "outputs": [],
   "source": [
    "from tcn import TCN\n",
    "\n",
    "def build_model():\n",
    "    inputs = tf.keras.Input(shape=(6, 12))    \n",
    "    x = TCN(nb_filters=64,\n",
    "                 kernel_size=3,\n",
    "                 nb_stacks=2,\n",
    "                 dilations=(1, 2, 4, 8, 16, 32, 64),\n",
    "                 padding='causal',\n",
    "                 use_skip_connections=True,\n",
    "                 dropout_rate=0.,\n",
    "                 return_sequences=False,                 \n",
    "                 kernel_initializer='he_normal',\n",
    "                 use_batch_norm=False,\n",
    "                 use_layer_norm=False,\n",
    "                 use_weight_norm=False,\n",
    "                 activation=\"tanh\")(inputs)        \n",
    "    outputs = tf.keras.layers.Dense(1, dtype=tf.float32)(x)\n",
    "\n",
    "    return tf.keras.Model(inputs=inputs, outputs=outputs)\n",
    "\n",
    "model = build_model()\n",
    "\n",
    "optimizer = tf.optimizers.RMSprop(0.001)\n",
    "\n",
    "model.compile(optimizer=optimizer, loss=\"mse\", metrics=[tf.keras.metrics.RootMeanSquaredError()])\n",
    "model.summary()"
   ]
  },
  {
   "cell_type": "code",
   "execution_count": null,
   "id": "0b8a3fa1",
   "metadata": {},
   "outputs": [],
   "source": [
    "from keras.models import Sequential\n",
    "from keras.layers import Dense, LSTM, GRU, AveragePooling1D, GlobalAveragePooling1D,Dropout \n",
    "\n",
    "from tensorflow.compat.v1.keras.backend import get_session\n",
    "tf.compat.v1.disable_v2_behavior()\n",
    "\n",
    "input_shape = (x_train[0].shape[0], x_train[0].shape[1])\n",
    "\n",
    "model = Sequential()\n",
    "model.add(GRU(256, input_shape=input_shape, return_sequences=True))\n",
    "model.add(GRU(128))\n",
    "model.add(Dense(1, activation='relu'))\n",
    "\n",
    "optimizer = tf.optimizers.RMSprop(0.001)\n",
    "\n",
    "model.compile(optimizer=optimizer,loss='mse', metrics=[tf.keras.metrics.RootMeanSquaredError()])\n",
    "\n",
    "\n",
    "model.summary()"
   ]
  },
  {
   "cell_type": "code",
   "execution_count": null,
   "id": "1def032c",
   "metadata": {},
   "outputs": [],
   "source": [
    "model.fit(x_train, y_train, epochs=1000, batch_size=512)"
   ]
  },
  {
   "cell_type": "code",
   "execution_count": null,
   "id": "1a2e4630",
   "metadata": {},
   "outputs": [],
   "source": [
    "y_pred=model.predict(x_test)"
   ]
  },
  {
   "cell_type": "code",
   "execution_count": null,
   "id": "a8fd0adb",
   "metadata": {},
   "outputs": [],
   "source": [
    "from tensorflow.keras.models import load_model\n",
    "\n",
    "model.save('tcn_model(1000).h5')"
   ]
  },
  {
   "cell_type": "code",
   "execution_count": null,
   "id": "898c2499",
   "metadata": {},
   "outputs": [],
   "source": [
    "y_pred=pd.DataFrame(y_pred)"
   ]
  },
  {
   "cell_type": "code",
   "execution_count": null,
   "id": "5ed7228a",
   "metadata": {},
   "outputs": [],
   "source": [
    "fig=plt.figure(figsize=(15,10))\n",
    "plt.plot(y_pred) # 선행시간 10m\n",
    "plt.plot(answer) # 선행시간 30m\n",
    "plt.legend(['pred','answer'],fontsize=20)\n",
    "plt.show();"
   ]
  },
  {
   "cell_type": "code",
   "execution_count": null,
   "id": "0ae6b740",
   "metadata": {},
   "outputs": [],
   "source": [
    "features=['wl_js_br', 'pr_jg', 'pr_dg', 'pr_sj', 'tl_gh_br', 'month', 'hour',\n",
    "       'flow', 'water', 'cd_br', 'hj_br', 'jn_br']"
   ]
  },
  {
   "cell_type": "code",
   "execution_count": null,
   "id": "8ffb004b",
   "metadata": {},
   "outputs": [],
   "source": [
    "import shap\n",
    "\n",
    "np.bool = np.bool_\n",
    "np.int = np.int_\n",
    "\n",
    "explainer = shap.DeepExplainer(model, x_train[:150])\n",
    "\n",
    "shap_values = explainer.shap_values(x_test[:100],check_additivity=False)\n",
    "\n",
    "shap_valuesnp = np.array(shap_values) \n",
    "shap_valuesnp = np.reshape(shap_valuesnp,(int(shap_valuesnp.shape[1]),int(shap_valuesnp.shape[2]),int(shap_valuesnp.shape[3]))) \n",
    "shap_abs = np.absolute(shap_valuesnp) \n",
    "sum_0 = np.sum(shap_abs,axis=0) \n",
    "\n",
    "\n",
    "fig, axs = plt.subplots(3, 2, figsize=(10, 12))\n",
    "axs = axs.flatten()\n",
    "x_pos=[i for i in range(0,12)]\n",
    "for i, ax in enumerate(axs):\n",
    "    ax.barh(x_pos, sum_0[5 - i])\n",
    "    ax.set_yticks(x_pos)\n",
    "    ax.set_yticklabels(features)\n",
    "    ax.set_title(f\"time-{i+1}\")\n",
    "    ax.set_xlim(0, 1500)  # x축 범위 설정\n",
    "\n",
    "plt.tight_layout()\n",
    "plt.show();\n",
    "\n",
    "\n",
    "#shap.summary_plot(shap_values[0], plot_type = 'bar', feature_names = features*6)\n"
   ]
  },
  {
   "cell_type": "code",
   "execution_count": null,
   "id": "eb03331f",
   "metadata": {},
   "outputs": [],
   "source": [
    "average_shap_values = np.mean(shap_valuesnp, axis=0)\n",
    "\n",
    "shap.summary_plot(average_shap_values, plot_type = 'bar', feature_names = features)"
   ]
  },
  {
   "cell_type": "code",
   "execution_count": null,
   "id": "fa8c926a",
   "metadata": {},
   "outputs": [],
   "source": [
    "shap.waterfall_plot(shap_values)\n",
    "shap.plots.bar(shap_values)"
   ]
  },
  {
   "cell_type": "code",
   "execution_count": null,
   "id": "091f5675",
   "metadata": {},
   "outputs": [],
   "source": []
  }
 ],
 "metadata": {
  "kernelspec": {
   "display_name": "water_project",
   "language": "python",
   "name": "python3"
  },
  "language_info": {
   "codemirror_mode": {
    "name": "ipython",
    "version": 3
   },
   "file_extension": ".py",
   "mimetype": "text/x-python",
   "name": "python",
   "nbconvert_exporter": "python",
   "pygments_lexer": "ipython3",
   "version": "3.8.16"
  },
  "toc": {
   "base_numbering": 1,
   "nav_menu": {},
   "number_sections": true,
   "sideBar": true,
   "skip_h1_title": false,
   "title_cell": "Table of Contents",
   "title_sidebar": "Contents",
   "toc_cell": false,
   "toc_position": {
    "height": "797.766px",
    "left": "461.969px",
    "top": "132.438px",
    "width": "240.375px"
   },
   "toc_section_display": true,
   "toc_window_display": true
  },
  "varInspector": {
   "cols": {
    "lenName": 16,
    "lenType": 16,
    "lenVar": 40
   },
   "kernels_config": {
    "python": {
     "delete_cmd_postfix": "",
     "delete_cmd_prefix": "del ",
     "library": "var_list.py",
     "varRefreshCmd": "print(var_dic_list())"
    },
    "r": {
     "delete_cmd_postfix": ") ",
     "delete_cmd_prefix": "rm(",
     "library": "var_list.r",
     "varRefreshCmd": "cat(var_dic_list()) "
    }
   },
   "oldHeight": 680.844,
   "position": {
    "height": "40px",
    "left": "1335.3px",
    "right": "20px",
    "top": "183.969px",
    "width": "582px"
   },
   "types_to_exclude": [
    "module",
    "function",
    "builtin_function_or_method",
    "instance",
    "_Feature"
   ],
   "varInspector_section_display": "none",
   "window_display": false
  }
 },
 "nbformat": 4,
 "nbformat_minor": 5
}
