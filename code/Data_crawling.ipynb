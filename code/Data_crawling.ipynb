{
 "cells": [
  {
   "cell_type": "code",
   "execution_count": 1,
   "id": "54339442",
   "metadata": {
    "ExecuteTime": {
     "end_time": "2023-05-19T13:18:42.134570Z",
     "start_time": "2023-05-19T13:18:41.001245Z"
    }
   },
   "outputs": [],
   "source": [
    "import os\n",
    "\n",
    "import numpy as np\n",
    "import pandas as pd\n",
    "from glob import glob\n",
    "\n",
    "import seaborn as sns \n",
    "import matplotlib.pyplot as plt\n",
    "\n",
    "import requests\n",
    "import calendar\n",
    "import time\n",
    "\n",
    "plt.rcParams['figure.figsize']=(10,10)\n",
    "plt.rcParams['font.family']='NanumGothic_0'\n",
    "\n",
    "from IPython.core.interactiveshell import InteractiveShell\n",
    "InteractiveShell.ast_node_interactivity = 'all'\n",
    "\n",
    "import warnings\n",
    "warnings.filterwarnings(action='ignore')"
   ]
  },
  {
   "cell_type": "code",
   "execution_count": 2,
   "id": "7c0f4d0f",
   "metadata": {
    "ExecuteTime": {
     "end_time": "2023-05-19T13:18:45.433802Z",
     "start_time": "2023-05-19T13:18:45.429990Z"
    }
   },
   "outputs": [],
   "source": [
    "SERVICE_KEY = \"7B5ACEA7-DD6A-47D9-BC04-9983B326A6F7\""
   ]
  },
  {
   "cell_type": "code",
   "execution_count": 3,
   "id": "616febed",
   "metadata": {
    "ExecuteTime": {
     "end_time": "2023-05-19T13:19:41.043208Z",
     "start_time": "2023-05-19T13:19:41.027238Z"
    }
   },
   "outputs": [],
   "source": [
    "bridge = {\n",
    "    '서울시(중랑교)': 1018675\n",
    "}"
   ]
  },
  {
   "cell_type": "code",
   "execution_count": 48,
   "id": "d40211fc",
   "metadata": {
    "ExecuteTime": {
     "end_time": "2023-04-08T06:12:47.027745Z",
     "start_time": "2023-04-08T06:12:47.015812Z"
    }
   },
   "outputs": [],
   "source": [
    "#bridge = {\n",
    "#    '서울시(청담대교)': 1018662,\n",
    "#    '서울시(잠수교)': 1018680,\n",
    "#    '서울시(한강대교)': 1018683,\n",
    "#    '서울시(행주대교)': 1019630,\n",
    "#    '서울시(광진교)' : 1018640,\n",
    "#    '남양주시(팔당대교)': 1018610\n",
    "#}"
   ]
  },
  {
   "cell_type": "code",
   "execution_count": 4,
   "id": "6e512023",
   "metadata": {
    "ExecuteTime": {
     "end_time": "2023-05-19T13:32:00.571814Z",
     "start_time": "2023-05-19T13:21:51.446409Z"
    }
   },
   "outputs": [
    {
     "name": "stdout",
     "output_type": "stream",
     "text": [
      "서울시(중랑교) crawling start ###################\n",
      "2013end \n",
      "2014end \n",
      "2015end \n",
      "2016end \n",
      "2017end \n",
      "2018end \n",
      "2019end \n",
      "2020end \n",
      "2021end \n",
      "2022end \n",
      "서울시(중랑교) crawling end ###################\n"
     ]
    }
   ],
   "source": [
    "# bridge 변수에 저장한 다리의 수위 자료 요청\n",
    "for name, code in bridge.items():\n",
    "    print(f\"{name} crawling start ###################\")\n",
    "    os.makedirs(f'data/wl/{name}', exist_ok=True)\n",
    "    for year in range(2013, 2023):\n",
    "        ms, me = (1, 13)\n",
    "        for month in range(ms, me):\n",
    "            weekday, end = calendar.monthrange(year, month)\n",
    "            sdate = f\"{year}{month:02}010000\" \n",
    "            edate = f\"{year}{month:02}{end:02}2350\"\n",
    "            url = f\"http://api.hrfco.go.kr/{SERVICE_KEY}/waterlevel/list/10M/{code}/{sdate}/{edate}.json\"            \n",
    "            response = requests.get(url,verify=False)\n",
    "            df = pd.DataFrame(response.json()['content'])\n",
    "            df.to_csv(f\"G:/내 드라이브/project/수위예측/data/wl/{name}/{year}{month:02}_{name}.csv\",index=False)\n",
    "            time.sleep(3)\n",
    "        print(f\"{year}end \")\n",
    "    print(f\"{name} crawling end ###################\")"
   ]
  },
  {
   "cell_type": "code",
   "execution_count": 9,
   "id": "c8a79237",
   "metadata": {
    "ExecuteTime": {
     "end_time": "2023-04-10T08:41:05.167072Z",
     "start_time": "2023-04-10T08:41:05.147584Z"
    }
   },
   "outputs": [],
   "source": [
    "dam = {\n",
    "    '팔당댐': 1017310\n",
    "}"
   ]
  },
  {
   "cell_type": "code",
   "execution_count": 10,
   "id": "89813994",
   "metadata": {
    "ExecuteTime": {
     "end_time": "2023-04-10T08:41:06.958031Z",
     "start_time": "2023-04-10T08:41:05.733934Z"
    }
   },
   "outputs": [
    {
     "name": "stdout",
     "output_type": "stream",
     "text": [
      "2017start \n",
      "1start \n"
     ]
    },
    {
     "ename": "KeyError",
     "evalue": "'content'",
     "output_type": "error",
     "traceback": [
      "\u001b[1;31m---------------------------------------------------------------------------\u001b[0m",
      "\u001b[1;31mKeyError\u001b[0m                                  Traceback (most recent call last)",
      "\u001b[1;32m~\\AppData\\Local\\Temp\\ipykernel_26824\\1669387445.py\u001b[0m in \u001b[0;36m<module>\u001b[1;34m\u001b[0m\n\u001b[0;32m     12\u001b[0m             \u001b[0murl\u001b[0m \u001b[1;33m=\u001b[0m \u001b[1;34mf\"http://api.hrfco.go.kr/{SERVICE_KEY}/dam/list/10M/{code}/{sdate}/{edate}.json\"\u001b[0m\u001b[1;33m\u001b[0m\u001b[1;33m\u001b[0m\u001b[0m\n\u001b[0;32m     13\u001b[0m             \u001b[0mresponse\u001b[0m \u001b[1;33m=\u001b[0m \u001b[0mrequests\u001b[0m\u001b[1;33m.\u001b[0m\u001b[0mget\u001b[0m\u001b[1;33m(\u001b[0m\u001b[0murl\u001b[0m\u001b[1;33m,\u001b[0m\u001b[0mverify\u001b[0m\u001b[1;33m=\u001b[0m\u001b[1;32mFalse\u001b[0m\u001b[1;33m)\u001b[0m\u001b[1;33m\u001b[0m\u001b[1;33m\u001b[0m\u001b[0m\n\u001b[1;32m---> 14\u001b[1;33m             \u001b[0mdf\u001b[0m \u001b[1;33m=\u001b[0m \u001b[0mpd\u001b[0m\u001b[1;33m.\u001b[0m\u001b[0mDataFrame\u001b[0m\u001b[1;33m(\u001b[0m\u001b[0mresponse\u001b[0m\u001b[1;33m.\u001b[0m\u001b[0mjson\u001b[0m\u001b[1;33m(\u001b[0m\u001b[1;33m)\u001b[0m\u001b[1;33m[\u001b[0m\u001b[1;34m'content'\u001b[0m\u001b[1;33m]\u001b[0m\u001b[1;33m)\u001b[0m\u001b[1;33m\u001b[0m\u001b[1;33m\u001b[0m\u001b[0m\n\u001b[0m\u001b[0;32m     15\u001b[0m             \u001b[0mdf\u001b[0m\u001b[1;33m.\u001b[0m\u001b[0mto_csv\u001b[0m\u001b[1;33m(\u001b[0m\u001b[1;34mf\"data/dam/{name}/{year}{month:02}_{name}.csv\"\u001b[0m\u001b[1;33m,\u001b[0m\u001b[0mindex\u001b[0m\u001b[1;33m=\u001b[0m\u001b[1;32mFalse\u001b[0m\u001b[1;33m)\u001b[0m\u001b[1;33m\u001b[0m\u001b[1;33m\u001b[0m\u001b[0m\n\u001b[0;32m     16\u001b[0m             \u001b[0mtime\u001b[0m\u001b[1;33m.\u001b[0m\u001b[0msleep\u001b[0m\u001b[1;33m(\u001b[0m\u001b[1;36m3\u001b[0m\u001b[1;33m)\u001b[0m\u001b[1;33m\u001b[0m\u001b[1;33m\u001b[0m\u001b[0m\n",
      "\u001b[1;31mKeyError\u001b[0m: 'content'"
     ]
    }
   ],
   "source": [
    "# dam 변수에 저장한 댐의 자료 요청\n",
    "for name, code in dam.items():\n",
    "    os.makedirs(f'data/dam/{name}', exist_ok=True)\n",
    "    for year in range(2017, 2023):\n",
    "        print(f\"{year}start \")\n",
    "        ms, me = (1, 13)\n",
    "        for month in range(ms, me):\n",
    "            print(f\"{month}start \")\n",
    "            weekday, end = calendar.monthrange(year, month)\n",
    "            sdate = f\"{year}{month:02}010000\" \n",
    "            edate = f\"{year}{month:02}{end:02}2350\"\n",
    "            url = f\"http://api.hrfco.go.kr/{SERVICE_KEY}/dam/list/10M/{code}/{sdate}/{edate}.json\"            \n",
    "            response = requests.get(url,verify=False)\n",
    "            df = pd.DataFrame(response.json()['content'])\n",
    "            df.to_csv(f\"data/dam/{name}/{year}{month:02}_{name}.csv\",index=False)\n",
    "            time.sleep(3)\n",
    "        print(f\"{year}end \")"
   ]
  },
  {
   "cell_type": "code",
   "execution_count": 52,
   "id": "a83bf80f",
   "metadata": {
    "ExecuteTime": {
     "end_time": "2023-04-08T07:39:22.576527Z",
     "start_time": "2023-04-08T07:39:22.554594Z"
    }
   },
   "outputs": [],
   "source": [
    "rf = {\n",
    "    '서울시(대곡교)': 10184100,\n",
    "    '남양주시(진관교)':10184110,\n",
    "    '서울시(송정동)':10184140\n",
    "}"
   ]
  },
  {
   "cell_type": "code",
   "execution_count": 53,
   "id": "84dcdb9e",
   "metadata": {
    "ExecuteTime": {
     "end_time": "2023-04-08T08:11:52.507673Z",
     "start_time": "2023-04-08T07:39:28.649668Z"
    }
   },
   "outputs": [
    {
     "name": "stdout",
     "output_type": "stream",
     "text": [
      "서울시(대곡교) crawling start ###################\n",
      "2013end \n",
      "2014end \n",
      "2015end \n",
      "2016end \n",
      "2017end \n",
      "2018end \n",
      "2019end \n",
      "2020end \n",
      "2021end \n",
      "2022end \n",
      "서울시(대곡교) crawling end ###################\n",
      "남양주시(진관교) crawling start ###################\n",
      "2013end \n",
      "2014end \n",
      "2015end \n",
      "2016end \n",
      "2017end \n",
      "2018end \n",
      "2019end \n",
      "2020end \n",
      "2021end \n",
      "2022end \n",
      "남양주시(진관교) crawling end ###################\n",
      "서울시(송정동) crawling start ###################\n",
      "2013end \n",
      "2014end \n",
      "2015end \n",
      "2016end \n",
      "2017end \n",
      "2018end \n",
      "2019end \n",
      "2020end \n",
      "2021end \n",
      "2022end \n",
      "서울시(송정동) crawling end ###################\n"
     ]
    }
   ],
   "source": [
    "# rf 변수에 저장한 다리의 강수량 자료 요청\n",
    "for name, code in rf.items():\n",
    "    print(f\"{name} crawling start ###################\")\n",
    "    os.makedirs(f'data/rf/{name}', exist_ok=True)\n",
    "    for year in range(2013, 2023):\n",
    "        ms, me = (1, 13)\n",
    "        for month in range(ms, me):\n",
    "            weekday, end = calendar.monthrange(year, month)\n",
    "            sdate = f\"{year}{month:02}010000\" \n",
    "            edate = f\"{year}{month:02}{end:02}2350\"\n",
    "            url = f\"http://api.hrfco.go.kr/{SERVICE_KEY}/rainfall/list/10M/{code}/{sdate}/{edate}.json\"            \n",
    "            response = requests.get(url,verify=False)\n",
    "            df = pd.DataFrame(response.json()['content'])\n",
    "            df.to_csv(f\"data/rf/{name}/{year}{month:02}_{name}.csv\",index=False)\n",
    "            time.sleep(3)\n",
    "        print(f\"{year}end \")\n",
    "    print(f\"{name} crawling end ###################\")"
   ]
  },
  {
   "cell_type": "code",
   "execution_count": 12,
   "id": "6396d21f",
   "metadata": {
    "ExecuteTime": {
     "end_time": "2023-04-10T08:42:02.378972Z",
     "start_time": "2023-04-10T08:42:02.368851Z"
    }
   },
   "outputs": [],
   "source": [
    "#SERVICE_KEY = \"h06f9NbyBwof013dRERoXQ==\"\n",
    "SERVICE_KEY = \"hrpEnK8QCPZytITscmIHRg==\""
   ]
  },
  {
   "cell_type": "code",
   "execution_count": 13,
   "id": "4b27d169",
   "metadata": {
    "ExecuteTime": {
     "end_time": "2023-04-10T08:42:03.114903Z",
     "start_time": "2023-04-10T08:42:03.107415Z"
    }
   },
   "outputs": [],
   "source": [
    "tide = {\n",
    "    '강화대교': 'DT_0032'\n",
    "}"
   ]
  },
  {
   "cell_type": "code",
   "execution_count": 18,
   "id": "39c1688a",
   "metadata": {
    "ExecuteTime": {
     "end_time": "2023-04-10T11:46:39.803185Z",
     "start_time": "2023-04-10T10:26:07.415832Z"
    }
   },
   "outputs": [
    {
     "name": "stdout",
     "output_type": "stream",
     "text": [
      "2020start \n",
      "1start \n",
      "2start \n",
      "3start \n",
      "4start \n",
      "5start \n",
      "6start \n",
      "7start \n",
      "8start \n",
      "9start \n",
      "10start \n",
      "11start \n",
      "12start \n",
      "2020end \n",
      "2021start \n",
      "1start \n",
      "2start \n",
      "3start \n",
      "4start \n",
      "5start \n",
      "6start \n",
      "7start \n",
      "8start \n",
      "9start \n",
      "10start \n",
      "11start \n",
      "12start \n",
      "2021end \n",
      "2022start \n",
      "1start \n",
      "2start \n",
      "3start \n",
      "4start \n",
      "5start \n",
      "6start \n",
      "7start \n",
      "8start \n",
      "9start \n",
      "10start \n",
      "11start \n",
      "12start \n",
      "2022end \n"
     ]
    }
   ],
   "source": [
    "df_month=[]\n",
    "\n",
    "for name, code in tide.items():\n",
    "    os.makedirs(f'data/tide_level/{name}', exist_ok=True)\n",
    "    for year in range(2020, 2023):\n",
    "        print(f\"{year}start \")\n",
    "        ms, me = (1, 13)\n",
    "        for month in range(ms, me):\n",
    "            print(f\"{month}start \")\n",
    "            weekday, end = calendar.monthrange(year, month)\n",
    "            for day in range(1,end+1):\n",
    "                sdate = f\"{year}{month:02}{day:02}\" \n",
    "                url = f\"http://www.khoa.go.kr/api/oceangrid/tideObs/search.do?ServiceKey={SERVICE_KEY}&ObsCode={code}&Date={sdate}&ResultType=json\"\n",
    "                response = requests.get(url,verify=False)\n",
    "                try:\n",
    "                    df = pd.DataFrame(response.json()['result']['data'])\n",
    "                    df=df.set_index('record_time',drop=True)\n",
    "                    df.index = pd.to_datetime(df.index)\n",
    "                    df['tide_level']=df['tide_level'].astype('int')\n",
    "                    df = df.resample('10T').mean()\n",
    "                    df_month.append(df)\n",
    "                except:\n",
    "                    pass\n",
    "                time.sleep(3)\n",
    "            result = pd.concat(df_month, axis=0)\n",
    "            \n",
    "            result.to_csv(f\"data/tide_level/{name}/{year}{month:02}_{name}.csv\",index=True)\n",
    "            df_month=[]\n",
    "        print(f\"{year}end \")"
   ]
  },
  {
   "cell_type": "code",
   "execution_count": null,
   "id": "35977bb7",
   "metadata": {},
   "outputs": [],
   "source": []
  }
 ],
 "metadata": {
  "kernelspec": {
   "display_name": "proj0",
   "language": "python",
   "name": "proj0"
  },
  "language_info": {
   "codemirror_mode": {
    "name": "ipython",
    "version": 3
   },
   "file_extension": ".py",
   "mimetype": "text/x-python",
   "name": "python",
   "nbconvert_exporter": "python",
   "pygments_lexer": "ipython3",
   "version": "3.8.16"
  },
  "toc": {
   "base_numbering": 1,
   "nav_menu": {},
   "number_sections": true,
   "sideBar": true,
   "skip_h1_title": false,
   "title_cell": "Table of Contents",
   "title_sidebar": "Contents",
   "toc_cell": false,
   "toc_position": {},
   "toc_section_display": true,
   "toc_window_display": false
  },
  "varInspector": {
   "cols": {
    "lenName": 16,
    "lenType": 16,
    "lenVar": 40
   },
   "kernels_config": {
    "python": {
     "delete_cmd_postfix": "",
     "delete_cmd_prefix": "del ",
     "library": "var_list.py",
     "varRefreshCmd": "print(var_dic_list())"
    },
    "r": {
     "delete_cmd_postfix": ") ",
     "delete_cmd_prefix": "rm(",
     "library": "var_list.r",
     "varRefreshCmd": "cat(var_dic_list()) "
    }
   },
   "types_to_exclude": [
    "module",
    "function",
    "builtin_function_or_method",
    "instance",
    "_Feature"
   ],
   "window_display": false
  }
 },
 "nbformat": 4,
 "nbformat_minor": 5
}
