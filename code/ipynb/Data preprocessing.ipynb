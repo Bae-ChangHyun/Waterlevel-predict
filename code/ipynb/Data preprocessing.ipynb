{
 "cells": [
  {
   "cell_type": "code",
   "execution_count": 1,
   "id": "e33b5609",
   "metadata": {
    "ExecuteTime": {
     "end_time": "2023-05-19T13:34:26.295422Z",
     "start_time": "2023-05-19T13:34:26.003494Z"
    }
   },
   "outputs": [],
   "source": [
    "import numpy as np\n",
    "import pandas as pd\n",
    "from glob import glob\n",
    "from functools import reduce\n",
    "\n",
    "from IPython.core.interactiveshell import InteractiveShell\n",
    "InteractiveShell.ast_node_interactivity = 'all'"
   ]
  },
  {
   "cell_type": "code",
   "execution_count": 2,
   "id": "df68fb78",
   "metadata": {
    "ExecuteTime": {
     "end_time": "2023-05-19T13:36:57.166482Z",
     "start_time": "2023-05-19T13:36:57.156186Z"
    }
   },
   "outputs": [],
   "source": [
    "# 크롤링한 데이터 로드\n",
    "def load_data(source):\n",
    "\n",
    "    # 한강에 있는 대교들의 수위 및 유량------------------\n",
    "    if(source=='bridge'):\n",
    "        jamsu = sorted(glob(\"../data/bridge/서울시(잠수교)/*.csv\"))\n",
    "        cheongdam =sorted(glob(\"../data/bridge/서울시(청담대교)/*.csv\"))\n",
    "        haengju = sorted(glob(\"../data/bridge/서울시(행주대교)/*.csv\"))\n",
    "        hangang = sorted(glob(\"../data/bridge/서울시(한강대교)/*.csv\"))\n",
    "        gwangin = sorted(glob(\"../data/bridge/서울시(광진교)/*.csv\"))\n",
    "        paldang = sorted(glob(\"../data/bridge/남양주시(팔당대교)/*.csv\"))\n",
    "        jungnang = sorted(glob(\"../data/bridge/서울시(중랑교)/*.csv\"))\n",
    "        \n",
    "        data_list={\"jamsu\":jamsu, \"cheongdam\":cheongdam, \"haengju\":haengju, \n",
    "                   \"hangang\":hangang, \"gwangin\":gwangin, \"paldang\":paldang, \"jungnang\":jungnang}\n",
    "        drop_cols=['wlobscd', 'links']\n",
    "        \n",
    "    # 팔당댐 관련 변수들들 ----------------------------------------\n",
    "    elif(source=='dam'):\n",
    "        pd_dam = sorted(glob(\"../data/dam/팔당댐/*.csv\"))\n",
    "        \n",
    "        data_list={'pd_dam':pd_dam}\n",
    "        drop_cols=['dmobscd','links']\n",
    "        \n",
    "    # 강화대교 조위-----------------------------------\n",
    "    elif(source=='tide'):\n",
    "        tide_lv = sorted(glob(\"../data/tide/강화대교/*.csv\"))\n",
    "        \n",
    "        data_list={'tide_lv':tide_lv}\n",
    "        drop_cols=[]\n",
    "    # 강수량 ------------------------------------------\n",
    "    elif(source=='rf'):\n",
    "        zingwan = sorted(glob(\"../data/rf/남양주시(진관교)/*.csv\"))\n",
    "        daegog = sorted(glob(\"../data/rf/서울시(대곡교)/*.csv\"))\n",
    "        songjeong = sorted(glob(\"../data/rf/서울시(송정동)/*.csv\"))\n",
    "        \n",
    "        data_list={'zingwan':zingwan, 'daegog':daegog, 'songjeong':songjeong}\n",
    "        drop_cols=['rfobscd','links']\n",
    "        \n",
    "    return data_list,drop_cols"
   ]
  },
  {
   "cell_type": "code",
   "execution_count": 3,
   "id": "0ba6fb9b",
   "metadata": {},
   "outputs": [],
   "source": [
    "def preprocessing(source,data_storage):\n",
    "    \n",
    "    # 수위값을 해발표고 값으로 변환\n",
    "    # 한강홍수통제소에서 수위<->해발표고의 차이를 비교하여 개별 튜닝해야 함.\n",
    "    if(source=='bridge'):\n",
    "        calc={\"jamsu\":-6.8, \"cheongdam\":174.7, \"haengju\":80.3, \n",
    "            \"hangang\":207, \"gwangin\":528, \"paldang\":557.0, \n",
    "            \"jungnang\":917}\n",
    "        \n",
    "        for i in data_storage:\n",
    "            data_storage[i]['wl']=data_storage[i]['wl'].replace(' ','0')\n",
    "            data_storage[i]['wl']=data_storage[i]['wl'].astype('float')\n",
    "            data_storage[i]['wl']=data_storage[i]['wl']*100 +calc[i]\n",
    "            \n",
    "            data_storage[i].columns=['ymdhm','wl_'+i,'fw_'+i]\n",
    "            \n",
    "    elif(source=='rf'):\n",
    "        for i in data_storage:\n",
    "            data_storage[i].columns=['ymdhm','rf_'+i]\n",
    "        \n",
    "    return data_storage"
   ]
  },
  {
   "cell_type": "code",
   "execution_count": 4,
   "id": "6a41d1d1",
   "metadata": {},
   "outputs": [],
   "source": [
    "def save_data(source,data_storage):\n",
    "    \n",
    "    # 데이터들을 병합하고 저장 총 4개(bridge, dam, rf, tide) 데이터가 생성됨\n",
    "    data=[data_storage[i] for i in data_storage]\n",
    "    data = reduce(lambda left, right: pd.merge(left, right, on='ymdhm'), data)\n",
    "    data.replace(\" \",np.nan,inplace=True)\n",
    "    data = data.sort_values(by='ymdhm', ascending=True)\n",
    "    data = data.drop_duplicates(subset='ymdhm', keep='first')\n",
    "    data.to_csv(f'../data/{source}/full_{source}.csv')\n",
    "    \n",
    "    return data\n",
    "    "
   ]
  },
  {
   "cell_type": "code",
   "execution_count": 5,
   "id": "23c8d92c",
   "metadata": {},
   "outputs": [],
   "source": [
    "def merge_data(source):\n",
    "    \n",
    "    data,drop_cols=load_data(source)\n",
    "    # 각 대교의 이름과 데이터들이 담겨있는 리스트 \n",
    "    data_storage=dict()\n",
    "    \n",
    "    for river in data.keys():\n",
    "        print(\"#\"*20)\n",
    "        print(f\"{river} data Merge Start\")\n",
    "        tmp_df = []\n",
    "        # 년,월별로 나뉘어진 데이터들을 병합\n",
    "        for file in data[river]: \n",
    "            tmp = pd.read_csv(file)\n",
    "            tmp_df.append(tmp)\n",
    "        full_df = pd.concat(tmp_df, axis=0)\n",
    "        full_df.reset_index(drop=True, inplace=True)\n",
    "        full_df.drop(drop_cols, axis=1, inplace=True)\n",
    "        if source!='tide':full_df['ymdhm'] = pd.to_datetime(full_df['ymdhm'], format='%Y%m%d%H%M')\n",
    "        # 조위 데이터의 경우 형식이 달라 개별 처리\n",
    "        else: \n",
    "            full_df['record_time'] = pd.to_datetime(full_df['record_time'], format='%Y-%m-%d %H:%M:%S')\n",
    "            full_df.columns=['ymdhm','tide_level']\n",
    "        full_df=full_df.sort_values(by='ymdhm')\n",
    "        full_df=full_df.reset_index(drop=True)\n",
    "        data_storage[river]=full_df\n",
    "        print(f\"{river} data Merge complete\")\n",
    "    return data_storage\n"
   ]
  },
  {
   "cell_type": "code",
   "execution_count": 8,
   "id": "58359f79",
   "metadata": {},
   "outputs": [],
   "source": [
    "def check_data():\n",
    "    prev = glob(\"../data/full_data.csv\")\n",
    "    print(prev)\n",
    "    if (prev != []):\n",
    "        return 1\n",
    "    else:\n",
    "        return 0"
   ]
  },
  {
   "cell_type": "code",
   "execution_count": 9,
   "id": "f2f242e1",
   "metadata": {},
   "outputs": [],
   "source": [
    "def finalize_data():\n",
    "    answer = int(input(\"파일을 병합하려면 1, 아니면 0을 입력하세요. \"))\n",
    "    if (answer == 1):\n",
    "        print(check_data())\n",
    "        if (check_data()) == 0:\n",
    "            dam_data = pd.read_csv(\"../data/dam/full_dam.csv\", index_col=0)\n",
    "            bridge_data = pd.read_csv(\n",
    "                \"../data/bridge/full_bridge.csv\", index_col=0)\n",
    "            # dam_data = pd.read_csv(\"../data/dam/full_dam.csv\", index_col=0)\n",
    "            rf_data = pd.read_csv(\"../data/rf/full_rf.csv\", index_col=0)\n",
    "            tide_data = pd.read_csv(\"../data/tide/full_tide.csv\", index_col=0)\n",
    "            final_df = [bridge_data, dam_data, rf_data, tide_data]\n",
    "            final_data = reduce(lambda left, right: pd.merge(\n",
    "                left, right, on='ymdhm', how='outer'), final_df)\n",
    "            final_data = final_data[:-1]\n",
    "        else:\n",
    "            print(\"이미 데이터가 존재합니다.\")\n",
    "            final_data = pd.read_csv(\"../data/full_data.csv\", index_col=0)\n",
    "    else:\n",
    "        print(\"작업을 종료합니다.\")\n",
    "        return 0\n",
    "    return final_data"
   ]
  },
  {
   "cell_type": "code",
   "execution_count": 11,
   "id": "239edd9d",
   "metadata": {},
   "outputs": [
    {
     "name": "stdout",
     "output_type": "stream",
     "text": [
      "['../data/full_data.csv']\n",
      "['../data/full_data.csv']\n",
      "1\n",
      "['../data/full_data.csv']\n",
      "이미 데이터가 존재합니다.\n"
     ]
    },
    {
     "name": "stderr",
     "output_type": "stream",
     "text": [
      "C:\\Users\\Matthew624.DESKTOP\\AppData\\Local\\Temp\\ipykernel_18668\\3206401129.py:18: DtypeWarning: Columns (16,17,18) have mixed types. Specify dtype option on import or set low_memory=False.\n",
      "  final_data = pd.read_csv(\"../data/full_data.csv\", index_col=0)\n"
     ]
    }
   ],
   "source": [
    "while True:\n",
    "    source = input(\n",
    "        \"bridge / dam / rf / tide 중 하나를 입력하세요.(종료하려면 아무 키나 입력하세요): \")\n",
    "    if source not in ['bridge', 'dam', 'rf', 'tide']:\n",
    "        break\n",
    "    if (check_data() == 0):\n",
    "        data_storage = merge_data(source)\n",
    "        data_storage = preprocessing(source, data_storage)\n",
    "        data = save_data(source, data_storage)\n",
    "    else:\n",
    "        break\n",
    "    print(\"요청하신 데이터 전처리 및 저장이 완료되었습니다.\")\n",
    "final_data = finalize_data()"
   ]
  },
  {
   "cell_type": "code",
   "execution_count": null,
   "id": "cc839b7b",
   "metadata": {},
   "outputs": [],
   "source": []
  }
 ],
 "metadata": {
  "kernelspec": {
   "display_name": "waterlevel",
   "language": "python",
   "name": "python3"
  },
  "language_info": {
   "codemirror_mode": {
    "name": "ipython",
    "version": 3
   },
   "file_extension": ".py",
   "mimetype": "text/x-python",
   "name": "python",
   "nbconvert_exporter": "python",
   "pygments_lexer": "ipython3",
   "version": "3.8.0"
  },
  "toc": {
   "base_numbering": 1,
   "nav_menu": {},
   "number_sections": true,
   "sideBar": true,
   "skip_h1_title": false,
   "title_cell": "Table of Contents",
   "title_sidebar": "Contents",
   "toc_cell": false,
   "toc_position": {},
   "toc_section_display": true,
   "toc_window_display": false
  },
  "varInspector": {
   "cols": {
    "lenName": 16,
    "lenType": 16,
    "lenVar": 40
   },
   "kernels_config": {
    "python": {
     "delete_cmd_postfix": "",
     "delete_cmd_prefix": "del ",
     "library": "var_list.py",
     "varRefreshCmd": "print(var_dic_list())"
    },
    "r": {
     "delete_cmd_postfix": ") ",
     "delete_cmd_prefix": "rm(",
     "library": "var_list.r",
     "varRefreshCmd": "cat(var_dic_list()) "
    }
   },
   "position": {
    "height": "438.835px",
    "left": "1379px",
    "right": "20px",
    "top": "329px",
    "width": "350px"
   },
   "types_to_exclude": [
    "module",
    "function",
    "builtin_function_or_method",
    "instance",
    "_Feature"
   ],
   "window_display": false
  }
 },
 "nbformat": 4,
 "nbformat_minor": 5
}
