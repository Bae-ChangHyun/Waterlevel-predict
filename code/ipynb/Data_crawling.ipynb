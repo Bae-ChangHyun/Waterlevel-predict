{
 "cells": [
  {
   "cell_type": "code",
   "execution_count": 1,
   "id": "54339442",
   "metadata": {
    "ExecuteTime": {
     "end_time": "2023-05-19T13:18:42.134570Z",
     "start_time": "2023-05-19T13:18:41.001245Z"
    }
   },
   "outputs": [],
   "source": [
    "import os\n",
    "\n",
    "import numpy as np\n",
    "import pandas as pd\n",
    "from glob import glob\n",
    "\n",
    "import seaborn as sns \n",
    "import matplotlib.pyplot as plt\n",
    "\n",
    "import requests\n",
    "import calendar\n",
    "import time"
   ]
  },
  {
   "cell_type": "code",
   "execution_count": 2,
   "id": "7ef2b2ad",
   "metadata": {},
   "outputs": [],
   "source": [
    "def get_info(source):\n",
    "    \n",
    "    \n",
    "    if(source=='bridge'):\n",
    "        url = f\"http://api.hrfco.go.kr/{SERVICE_KEY}/waterlevel/list/10M/\"\n",
    "        table= {\n",
    "        '서울시(청담대교)': 1018662,\n",
    "        '서울시(잠수교)': 1018680,\n",
    "        '서울시(한강대교)': 1018683,\n",
    "        '서울시(행주대교)': 1019630,\n",
    "        '서울시(광진교)' : 1018640,\n",
    "        '남양주시(팔당대교)': 1018610,\n",
    "        '서울시(중랑교)': 1018675\n",
    "        }\n",
    "    elif(source=='dam'):\n",
    "        url = f\"http://api.hrfco.go.kr/{SERVICE_KEY}/dam/list/10M/\"\n",
    "        table = {\n",
    "        '팔당댐': 1017310\n",
    "        }\n",
    "    elif(source=='rf'):\n",
    "        url = f\"http://api.hrfco.go.kr/{SERVICE_KEY}/rainfall/list/10M/\"\n",
    "        table = {\n",
    "        '서울시(대곡교)': 10184100,\n",
    "        '남양주시(진관교)':10184110,\n",
    "        '서울시(송정동)':10184140\n",
    "        }\n",
    "    else:\n",
    "        url = f\"http://www.khoa.go.kr/api/oceangrid/tideObs/search.do?ServiceKey={SERVICE_KEY2}\"\n",
    "        table = {\n",
    "        '강화대교': 'DT_0032'\n",
    "        }\n",
    "        \n",
    "    return url,table"
   ]
  },
  {
   "cell_type": "code",
   "execution_count": 9,
   "id": "9422468c",
   "metadata": {},
   "outputs": [],
   "source": [
    "def collect_data(start,end,source):\n",
    "    \n",
    "    start_year,end_year=start[:-2],end[:-2]\n",
    "    start_month,end_month=start[-2:],end[-2:]\n",
    "    origin_url,table=get_info(source) # 크롤링 할 url과 지점 코드를 가져옴.\n",
    "    for name, code in table.items():\n",
    "        print(f\"{name} Crawling start ###################\")\n",
    "        os.makedirs(f'data/{source}/{name}', exist_ok=True) # 대교명 폴더가 없을시 생성\n",
    "        for year in range(start_year, end_year+1):    # 시작년도~마지막년도\n",
    "            ms, me = (start_month,end_month+1)        # 시작월~마지막 월 \n",
    "            for month in range(ms, me):\n",
    "                weekday, end = calendar.monthrange(year, month)\n",
    "                # [한강홍수통제소]-대교,댐,강수량 / [바다누리해양정보]-조위\n",
    "                if(source!='tide'):\n",
    "                    start_date, end_date = f\"{year}{month:02}010000\", f\"{year}{month:02}{end:02}2350\"   \n",
    "                    url=origin_url+f\"{code}/{start_date}/{end_date}.json\" \n",
    "                    response = requests.get(url,verify=False) \n",
    "                    df = pd.DataFrame(response.json()['content'])\n",
    "                else:\n",
    "                    df_month=[]\n",
    "                    for day in range(1,end+1):\n",
    "                        start_date = f\"{year}{month:02}{day:02}\" \n",
    "                        url = origin_url+f\"&ObsCode={code}&Date={start_date}&ResultType=json\"\n",
    "                        response = requests.get(url,verify=False)\n",
    "                        try:\n",
    "                            df = pd.DataFrame(response.json()['result']['data'])\n",
    "                            df=df.set_index('record_time',drop=True)\n",
    "                            df.index = pd.to_datetime(df.index)\n",
    "                            df['tide_level']=df['tide_level'].astype('int')\n",
    "                            df = df.resample('10T').mean()\n",
    "                            df_month.append(df)\n",
    "                        except:\n",
    "                            pass\n",
    "                    try:\n",
    "                        df = pd.concat(df_month, axis=0)\n",
    "                    except:\n",
    "                        print(\"존재하지 않는 일자입니다.\")\n",
    "                        break\n",
    "                    df['record_time']=df.index\n",
    "                df.to_csv(f\"G:/내 드라이브/project/수위예측/data/{source}/{name}/{year}{month:02}_{name}.csv\",index=False)\n",
    "                time.sleep(3)\n",
    "            print(f\"{year} end \")\n",
    "        print(f\"{name} Crawling end ###################\")"
   ]
  },
  {
   "cell_type": "code",
   "execution_count": null,
   "id": "7261e4e7",
   "metadata": {},
   "outputs": [],
   "source": [
    "if __name__ == \"__main__\":\n",
    "    while True:\n",
    "        source = input(\"bridge / dam / rf / tide 를 입력하세요. (종료하려면 아무 키나 입력하세요): \")\n",
    "        if source not in ['bridge', 'dam', 'rf', 'tide']:break\n",
    "        start = int(input(\"시작일을 입력하세요(ex 202309)\"))\n",
    "        end = int(input(\"종료일를 입력하세요(ex 202311)\"))\n",
    "        collect_data(start, end, source)\n",
    "        print(\"데이터 수집이 완료되었습니다.\")"
   ]
  }
 ],
 "metadata": {
  "kernelspec": {
   "display_name": "waterlevel",
   "language": "python",
   "name": "python3"
  },
  "language_info": {
   "codemirror_mode": {
    "name": "ipython",
    "version": 3
   },
   "file_extension": ".py",
   "mimetype": "text/x-python",
   "name": "python",
   "nbconvert_exporter": "python",
   "pygments_lexer": "ipython3",
   "version": "3.8.0"
  },
  "toc": {
   "base_numbering": 1,
   "nav_menu": {},
   "number_sections": true,
   "sideBar": true,
   "skip_h1_title": false,
   "title_cell": "Table of Contents",
   "title_sidebar": "Contents",
   "toc_cell": false,
   "toc_position": {},
   "toc_section_display": true,
   "toc_window_display": false
  },
  "varInspector": {
   "cols": {
    "lenName": 16,
    "lenType": 16,
    "lenVar": 40
   },
   "kernels_config": {
    "python": {
     "delete_cmd_postfix": "",
     "delete_cmd_prefix": "del ",
     "library": "var_list.py",
     "varRefreshCmd": "print(var_dic_list())"
    },
    "r": {
     "delete_cmd_postfix": ") ",
     "delete_cmd_prefix": "rm(",
     "library": "var_list.r",
     "varRefreshCmd": "cat(var_dic_list()) "
    }
   },
   "types_to_exclude": [
    "module",
    "function",
    "builtin_function_or_method",
    "instance",
    "_Feature"
   ],
   "window_display": false
  }
 },
 "nbformat": 4,
 "nbformat_minor": 5
}
